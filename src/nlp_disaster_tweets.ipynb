{
 "cells": [
  {
   "cell_type": "markdown",
   "id": "445ec7a5-93ca-427b-a532-3697f926226a",
   "metadata": {},
   "source": [
    "### __Natural Language Processing with Disaster Tweets__\n",
    "#### _Predict which Tweets are about real disasters and which ones are not_\n",
    "> - https://www.kaggle.com/competitions/nlp-getting-started/overview/description"
   ]
  },
  {
   "cell_type": "code",
   "execution_count": 1,
   "id": "9f4e917d-6c03-418c-84dd-117ccb8bc3dc",
   "metadata": {},
   "outputs": [],
   "source": [
    "# import libraries\n",
    "import numpy as np\n",
    "import pandas as pd\n",
    "from datetime import datetime, timezone, timedelta\n",
    "import datetime as dt\n",
    "import time\n",
    "import random\n",
    "from collections import Counter\n",
    "from PIL import Image\n",
    "import random\n",
    "import string\n",
    "from joblib import Parallel, delayed\n",
    "import math\n",
    "\n",
    "import warnings\n",
    "warnings.filterwarnings('ignore')\n",
    "\n",
    "# import packages for sentiment analysis\n",
    "from textblob import TextBlob\n",
    "from wordcloud import WordCloud\n",
    "\n",
    "# import regex\n",
    "import re\n",
    "\n",
    "# import nltk\n",
    "import nltk \n",
    "from nltk.corpus import stopwords\n",
    "from nltk.corpus import wordnet as wn\n",
    "from nltk import sent_tokenize\n",
    "from nltk.tokenize import word_tokenize\n",
    "from nltk.stem.porter import PorterStemmer\n",
    "from nltk.stem import WordNetLemmatizer\n",
    "\n",
    "# import matplotlib\n",
    "from matplotlib import pyplot\n",
    "import matplotlib.pyplot as plt\n",
    "from matplotlib.pyplot import figure\n",
    "import matplotlib.image as mpimg\n",
    "#plt.imshow(mpimg.imread('jan_aug_tempanom.png'))\n",
    "\n",
    "# import seaborn\n",
    "import seaborn as sns\n",
    "\n",
    "# import scipy.cluster.hierarchy\n",
    "import scipy\n",
    "import scipy.linalg as la\n",
    "import scipy.cluster.hierarchy as sch\n",
    "from scipy.cluster.vq import whiten, kmeans, vq\n",
    "from scipy.stats import multivariate_normal\n",
    "from pathlib import Path\n",
    "\n",
    "# import sklearn\n",
    "from sklearn.decomposition import PCA\n",
    "from sklearn.preprocessing import StandardScaler\n",
    "from sklearn.preprocessing import Normalizer\n",
    "import sklearn.model_selection as model_selection\n",
    "import sklearn.model_selection as cross_validation\n",
    "from sklearn.model_selection import GridSearchCV, RandomizedSearchCV\n",
    "from sklearn.model_selection import train_test_split\n",
    "from sklearn.model_selection import KFold\n",
    "import sklearn.metrics as metrics\n",
    "from sklearn.metrics import mean_squared_error\n",
    "from sklearn.metrics import mean_absolute_error\n",
    "from sklearn.metrics import r2_score\n",
    "from sklearn.metrics import accuracy_score\n",
    "from sklearn.metrics import f1_score\n",
    "from sklearn.metrics import precision_score\n",
    "from sklearn.metrics import recall_score\n",
    "from sklearn.metrics import log_loss\n",
    "from sklearn.metrics import roc_auc_score\n",
    "from sklearn.metrics import roc_curve\n",
    "from sklearn.metrics import plot_roc_curve\n",
    "from sklearn.metrics import average_precision_score, f1_score, classification_report\n",
    "from sklearn.metrics import confusion_matrix\n",
    "from sklearn.metrics import plot_precision_recall_curve, plot_confusion_matrix\n",
    "from sklearn.feature_selection import RFE\n",
    "from sklearn import linear_model, datasets\n",
    "from sklearn.linear_model import LinearRegression, Ridge\n",
    "from sklearn.linear_model import LogisticRegression, RidgeClassifier\n",
    "from sklearn.linear_model import SGDClassifier\n",
    "from sklearn.naive_bayes import GaussianNB\n",
    "from sklearn import svm\n",
    "from sklearn import tree\n",
    "from sklearn.tree import DecisionTreeClassifier\n",
    "from sklearn.tree import export_graphviz\n",
    "#from sklearn.externals.six import StringIO  \n",
    "from sklearn.ensemble import RandomForestClassifier\n",
    "\n",
    "from sklearn.naive_bayes import BernoulliNB # Bernoulli because we have binary features\n",
    "from sklearn.pipeline import Pipeline\n",
    "\n",
    "# For converting words into frequency counts\n",
    "from sklearn import feature_extraction, linear_model, model_selection, preprocessing\n",
    "from sklearn.feature_extraction.text import CountVectorizer\n",
    "from sklearn.feature_extraction.text import TfidfVectorizer\n",
    "\n",
    "import statsmodels.api as sm\n",
    "from statsmodels.tsa.stattools import adfuller\n",
    "from statsmodels.tsa.seasonal import seasonal_decompose\n",
    "from statsmodels.tsa.arima_model import ARIMA\n",
    "from pandas.plotting import register_matplotlib_converters\n",
    "register_matplotlib_converters()\n",
    "\n",
    "# Importing the Keras libraries and packages\n",
    "from keras.models import Sequential\n",
    "from keras.layers import Dense\n",
    "from keras.layers import LSTM\n",
    "from keras.layers import Dropout\n",
    "\n",
    "from sklearn.preprocessing import MinMaxScaler\n",
    "\n",
    "#for showing 2D plot\n",
    "%matplotlib inline    \n",
    "\n",
    "# to be able to see multiple ouputs from sungle cell\n",
    "from IPython.core.interactiveshell import InteractiveShell\n",
    "InteractiveShell.ast_node_interactivity = \"all\""
   ]
  },
  {
   "cell_type": "markdown",
   "id": "c9e343ed-a183-431a-87ea-412bed656284",
   "metadata": {},
   "source": [
    "#### __Import Data__"
   ]
  },
  {
   "cell_type": "code",
   "execution_count": 2,
   "id": "94e1ee80-2020-4dd2-b03c-9552f582c813",
   "metadata": {},
   "outputs": [
    {
     "name": "stdout",
     "output_type": "stream",
     "text": [
      "<class 'pandas.core.frame.DataFrame'>\n",
      "RangeIndex: 3263 entries, 0 to 3262\n",
      "Data columns (total 4 columns):\n",
      " #   Column    Non-Null Count  Dtype \n",
      "---  ------    --------------  ----- \n",
      " 0   id        3263 non-null   int64 \n",
      " 1   keyword   3237 non-null   object\n",
      " 2   location  2158 non-null   object\n",
      " 3   text      3263 non-null   object\n",
      "dtypes: int64(1), object(3)\n",
      "memory usage: 102.1+ KB\n"
     ]
    },
    {
     "data": {
      "text/html": [
       "<div>\n",
       "<style scoped>\n",
       "    .dataframe tbody tr th:only-of-type {\n",
       "        vertical-align: middle;\n",
       "    }\n",
       "\n",
       "    .dataframe tbody tr th {\n",
       "        vertical-align: top;\n",
       "    }\n",
       "\n",
       "    .dataframe thead th {\n",
       "        text-align: right;\n",
       "    }\n",
       "</style>\n",
       "<table border=\"1\" class=\"dataframe\">\n",
       "  <thead>\n",
       "    <tr style=\"text-align: right;\">\n",
       "      <th></th>\n",
       "      <th>id</th>\n",
       "      <th>keyword</th>\n",
       "      <th>location</th>\n",
       "      <th>text</th>\n",
       "    </tr>\n",
       "  </thead>\n",
       "  <tbody>\n",
       "    <tr>\n",
       "      <th>0</th>\n",
       "      <td>0</td>\n",
       "      <td>NaN</td>\n",
       "      <td>NaN</td>\n",
       "      <td>Just happened a terrible car crash</td>\n",
       "    </tr>\n",
       "    <tr>\n",
       "      <th>1</th>\n",
       "      <td>2</td>\n",
       "      <td>NaN</td>\n",
       "      <td>NaN</td>\n",
       "      <td>Heard about #earthquake is different cities, s...</td>\n",
       "    </tr>\n",
       "    <tr>\n",
       "      <th>2</th>\n",
       "      <td>3</td>\n",
       "      <td>NaN</td>\n",
       "      <td>NaN</td>\n",
       "      <td>there is a forest fire at spot pond, geese are...</td>\n",
       "    </tr>\n",
       "    <tr>\n",
       "      <th>3</th>\n",
       "      <td>9</td>\n",
       "      <td>NaN</td>\n",
       "      <td>NaN</td>\n",
       "      <td>Apocalypse lighting. #Spokane #wildfires</td>\n",
       "    </tr>\n",
       "    <tr>\n",
       "      <th>4</th>\n",
       "      <td>11</td>\n",
       "      <td>NaN</td>\n",
       "      <td>NaN</td>\n",
       "      <td>Typhoon Soudelor kills 28 in China and Taiwan</td>\n",
       "    </tr>\n",
       "    <tr>\n",
       "      <th>...</th>\n",
       "      <td>...</td>\n",
       "      <td>...</td>\n",
       "      <td>...</td>\n",
       "      <td>...</td>\n",
       "    </tr>\n",
       "    <tr>\n",
       "      <th>3258</th>\n",
       "      <td>10861</td>\n",
       "      <td>NaN</td>\n",
       "      <td>NaN</td>\n",
       "      <td>EARTHQUAKE SAFETY LOS ANGELES ÛÒ SAFETY FASTE...</td>\n",
       "    </tr>\n",
       "    <tr>\n",
       "      <th>3259</th>\n",
       "      <td>10865</td>\n",
       "      <td>NaN</td>\n",
       "      <td>NaN</td>\n",
       "      <td>Storm in RI worse than last hurricane. My city...</td>\n",
       "    </tr>\n",
       "    <tr>\n",
       "      <th>3260</th>\n",
       "      <td>10868</td>\n",
       "      <td>NaN</td>\n",
       "      <td>NaN</td>\n",
       "      <td>Green Line derailment in Chicago http://t.co/U...</td>\n",
       "    </tr>\n",
       "    <tr>\n",
       "      <th>3261</th>\n",
       "      <td>10874</td>\n",
       "      <td>NaN</td>\n",
       "      <td>NaN</td>\n",
       "      <td>MEG issues Hazardous Weather Outlook (HWO) htt...</td>\n",
       "    </tr>\n",
       "    <tr>\n",
       "      <th>3262</th>\n",
       "      <td>10875</td>\n",
       "      <td>NaN</td>\n",
       "      <td>NaN</td>\n",
       "      <td>#CityofCalgary has activated its Municipal Eme...</td>\n",
       "    </tr>\n",
       "  </tbody>\n",
       "</table>\n",
       "<p>3263 rows × 4 columns</p>\n",
       "</div>"
      ],
      "text/plain": [
       "         id keyword location  \\\n",
       "0         0     NaN      NaN   \n",
       "1         2     NaN      NaN   \n",
       "2         3     NaN      NaN   \n",
       "3         9     NaN      NaN   \n",
       "4        11     NaN      NaN   \n",
       "...     ...     ...      ...   \n",
       "3258  10861     NaN      NaN   \n",
       "3259  10865     NaN      NaN   \n",
       "3260  10868     NaN      NaN   \n",
       "3261  10874     NaN      NaN   \n",
       "3262  10875     NaN      NaN   \n",
       "\n",
       "                                                   text  \n",
       "0                    Just happened a terrible car crash  \n",
       "1     Heard about #earthquake is different cities, s...  \n",
       "2     there is a forest fire at spot pond, geese are...  \n",
       "3              Apocalypse lighting. #Spokane #wildfires  \n",
       "4         Typhoon Soudelor kills 28 in China and Taiwan  \n",
       "...                                                 ...  \n",
       "3258  EARTHQUAKE SAFETY LOS ANGELES ÛÒ SAFETY FASTE...  \n",
       "3259  Storm in RI worse than last hurricane. My city...  \n",
       "3260  Green Line derailment in Chicago http://t.co/U...  \n",
       "3261  MEG issues Hazardous Weather Outlook (HWO) htt...  \n",
       "3262  #CityofCalgary has activated its Municipal Eme...  \n",
       "\n",
       "[3263 rows x 4 columns]"
      ]
     },
     "execution_count": 2,
     "metadata": {},
     "output_type": "execute_result"
    }
   ],
   "source": [
    "# import train data\n",
    "test_df = pd.read_csv('../data/test.csv')\n",
    "test_df.info()\n",
    "test_df"
   ]
  },
  {
   "cell_type": "code",
   "execution_count": 58,
   "id": "1fe5b9ae-004f-4464-9794-73750675162f",
   "metadata": {},
   "outputs": [
    {
     "name": "stdout",
     "output_type": "stream",
     "text": [
      "<class 'pandas.core.frame.DataFrame'>\n",
      "RangeIndex: 7613 entries, 0 to 7612\n",
      "Data columns (total 5 columns):\n",
      " #   Column    Non-Null Count  Dtype \n",
      "---  ------    --------------  ----- \n",
      " 0   id        7613 non-null   int64 \n",
      " 1   keyword   7552 non-null   object\n",
      " 2   location  5080 non-null   object\n",
      " 3   text      7613 non-null   object\n",
      " 4   target    7613 non-null   int64 \n",
      "dtypes: int64(2), object(3)\n",
      "memory usage: 297.5+ KB\n"
     ]
    },
    {
     "data": {
      "text/html": [
       "<div>\n",
       "<style scoped>\n",
       "    .dataframe tbody tr th:only-of-type {\n",
       "        vertical-align: middle;\n",
       "    }\n",
       "\n",
       "    .dataframe tbody tr th {\n",
       "        vertical-align: top;\n",
       "    }\n",
       "\n",
       "    .dataframe thead th {\n",
       "        text-align: right;\n",
       "    }\n",
       "</style>\n",
       "<table border=\"1\" class=\"dataframe\">\n",
       "  <thead>\n",
       "    <tr style=\"text-align: right;\">\n",
       "      <th></th>\n",
       "      <th>id</th>\n",
       "      <th>keyword</th>\n",
       "      <th>location</th>\n",
       "      <th>text</th>\n",
       "      <th>target</th>\n",
       "    </tr>\n",
       "  </thead>\n",
       "  <tbody>\n",
       "    <tr>\n",
       "      <th>0</th>\n",
       "      <td>1</td>\n",
       "      <td>NaN</td>\n",
       "      <td>NaN</td>\n",
       "      <td>Our Deeds are the Reason of this #earthquake M...</td>\n",
       "      <td>1</td>\n",
       "    </tr>\n",
       "    <tr>\n",
       "      <th>1</th>\n",
       "      <td>4</td>\n",
       "      <td>NaN</td>\n",
       "      <td>NaN</td>\n",
       "      <td>Forest fire near La Ronge Sask. Canada</td>\n",
       "      <td>1</td>\n",
       "    </tr>\n",
       "    <tr>\n",
       "      <th>2</th>\n",
       "      <td>5</td>\n",
       "      <td>NaN</td>\n",
       "      <td>NaN</td>\n",
       "      <td>All residents asked to 'shelter in place' are ...</td>\n",
       "      <td>1</td>\n",
       "    </tr>\n",
       "    <tr>\n",
       "      <th>3</th>\n",
       "      <td>6</td>\n",
       "      <td>NaN</td>\n",
       "      <td>NaN</td>\n",
       "      <td>13,000 people receive #wildfires evacuation or...</td>\n",
       "      <td>1</td>\n",
       "    </tr>\n",
       "    <tr>\n",
       "      <th>4</th>\n",
       "      <td>7</td>\n",
       "      <td>NaN</td>\n",
       "      <td>NaN</td>\n",
       "      <td>Just got sent this photo from Ruby #Alaska as ...</td>\n",
       "      <td>1</td>\n",
       "    </tr>\n",
       "    <tr>\n",
       "      <th>...</th>\n",
       "      <td>...</td>\n",
       "      <td>...</td>\n",
       "      <td>...</td>\n",
       "      <td>...</td>\n",
       "      <td>...</td>\n",
       "    </tr>\n",
       "    <tr>\n",
       "      <th>7608</th>\n",
       "      <td>10869</td>\n",
       "      <td>NaN</td>\n",
       "      <td>NaN</td>\n",
       "      <td>Two giant cranes holding a bridge collapse int...</td>\n",
       "      <td>1</td>\n",
       "    </tr>\n",
       "    <tr>\n",
       "      <th>7609</th>\n",
       "      <td>10870</td>\n",
       "      <td>NaN</td>\n",
       "      <td>NaN</td>\n",
       "      <td>@aria_ahrary @TheTawniest The out of control w...</td>\n",
       "      <td>1</td>\n",
       "    </tr>\n",
       "    <tr>\n",
       "      <th>7610</th>\n",
       "      <td>10871</td>\n",
       "      <td>NaN</td>\n",
       "      <td>NaN</td>\n",
       "      <td>M1.94 [01:04 UTC]?5km S of Volcano Hawaii. htt...</td>\n",
       "      <td>1</td>\n",
       "    </tr>\n",
       "    <tr>\n",
       "      <th>7611</th>\n",
       "      <td>10872</td>\n",
       "      <td>NaN</td>\n",
       "      <td>NaN</td>\n",
       "      <td>Police investigating after an e-bike collided ...</td>\n",
       "      <td>1</td>\n",
       "    </tr>\n",
       "    <tr>\n",
       "      <th>7612</th>\n",
       "      <td>10873</td>\n",
       "      <td>NaN</td>\n",
       "      <td>NaN</td>\n",
       "      <td>The Latest: More Homes Razed by Northern Calif...</td>\n",
       "      <td>1</td>\n",
       "    </tr>\n",
       "  </tbody>\n",
       "</table>\n",
       "<p>7613 rows × 5 columns</p>\n",
       "</div>"
      ],
      "text/plain": [
       "         id keyword location  \\\n",
       "0         1     NaN      NaN   \n",
       "1         4     NaN      NaN   \n",
       "2         5     NaN      NaN   \n",
       "3         6     NaN      NaN   \n",
       "4         7     NaN      NaN   \n",
       "...     ...     ...      ...   \n",
       "7608  10869     NaN      NaN   \n",
       "7609  10870     NaN      NaN   \n",
       "7610  10871     NaN      NaN   \n",
       "7611  10872     NaN      NaN   \n",
       "7612  10873     NaN      NaN   \n",
       "\n",
       "                                                   text  target  \n",
       "0     Our Deeds are the Reason of this #earthquake M...       1  \n",
       "1                Forest fire near La Ronge Sask. Canada       1  \n",
       "2     All residents asked to 'shelter in place' are ...       1  \n",
       "3     13,000 people receive #wildfires evacuation or...       1  \n",
       "4     Just got sent this photo from Ruby #Alaska as ...       1  \n",
       "...                                                 ...     ...  \n",
       "7608  Two giant cranes holding a bridge collapse int...       1  \n",
       "7609  @aria_ahrary @TheTawniest The out of control w...       1  \n",
       "7610  M1.94 [01:04 UTC]?5km S of Volcano Hawaii. htt...       1  \n",
       "7611  Police investigating after an e-bike collided ...       1  \n",
       "7612  The Latest: More Homes Razed by Northern Calif...       1  \n",
       "\n",
       "[7613 rows x 5 columns]"
      ]
     },
     "execution_count": 58,
     "metadata": {},
     "output_type": "execute_result"
    }
   ],
   "source": [
    "# import train data\n",
    "train_df = pd.read_csv('../data/train.csv')\n",
    "train_df.info()\n",
    "train_df"
   ]
  },
  {
   "cell_type": "code",
   "execution_count": 59,
   "id": "ea9ed3c0-6443-4c27-aa8d-62f274e6e10e",
   "metadata": {},
   "outputs": [
    {
     "data": {
      "text/plain": [
       "id             0\n",
       "keyword       61\n",
       "location    2533\n",
       "text           0\n",
       "target         0\n",
       "dtype: int64"
      ]
     },
     "execution_count": 59,
     "metadata": {},
     "output_type": "execute_result"
    }
   ],
   "source": [
    "# check for missing data\n",
    "train_df.isnull().sum()"
   ]
  },
  {
   "cell_type": "markdown",
   "id": "a3984403-0d3f-487a-a166-fb46aac1d7d3",
   "metadata": {},
   "source": [
    "#### __Check the Proportion of Target Class__"
   ]
  },
  {
   "cell_type": "code",
   "execution_count": 60,
   "id": "c142599a-5391-41ce-a0b2-54f15a9bcb26",
   "metadata": {},
   "outputs": [
    {
     "data": {
      "text/plain": [
       "0    4342\n",
       "1    3271\n",
       "Name: target, dtype: int64"
      ]
     },
     "execution_count": 60,
     "metadata": {},
     "output_type": "execute_result"
    },
    {
     "data": {
      "text/plain": [
       "0    0.57034\n",
       "1    0.42966\n",
       "Name: target, dtype: float64"
      ]
     },
     "execution_count": 60,
     "metadata": {},
     "output_type": "execute_result"
    },
    {
     "name": "stdout",
     "output_type": "stream",
     "text": [
      "\n",
      "target class 0 = 57.03 % | target class 1 = 42.97 %\n"
     ]
    }
   ],
   "source": [
    "# checking balance of target class\n",
    "train_df['target'].value_counts()                 # in numbers\n",
    "train_df['target'].value_counts()/len(train_df)   # in %\n",
    "\n",
    "# print each target class proportion in %\n",
    "perc_0 = (train_df['target'].value_counts()/len(train_df))[0]\n",
    "perc_1 = (train_df['target'].value_counts()/len(train_df))[1]\n",
    "\n",
    "print(f\"\\ntarget class 0 = {round(perc_0*100, 2)} % | target class 1 = {round(perc_1*100, 2)} %\")"
   ]
  },
  {
   "cell_type": "markdown",
   "id": "9d04b434-db21-45f2-82fa-f583fd4393eb",
   "metadata": {},
   "source": [
    "__Matplotlib Bar Plot:__\n",
    "> - https://matplotlib.org/stable/gallery/lines_bars_and_markers/bar_label_demo.html\n",
    "> - https://python-graph-gallery.com/3-control-color-of-barplots\n",
    "> - https://moonbooks.org/Articles/How-to-plot-a-bar-chart-with-a-colorbar-using-matplotlib-in-python-/\n",
    "> - https://matplotlib.org/stable/gallery/color/colormap_reference.html\n",
    "> - https://pythonguides.com/matplotlib-bar-chart-labels/"
   ]
  },
  {
   "cell_type": "code",
   "execution_count": 8,
   "id": "18f909fe-1694-450f-8e50-8bafd4645a13",
   "metadata": {},
   "outputs": [
    {
     "data": {
      "text/plain": [
       "<Figure size 720x720 with 0 Axes>"
      ]
     },
     "execution_count": 8,
     "metadata": {},
     "output_type": "execute_result"
    },
    {
     "data": {
      "text/plain": [
       "Text(0, 0.5, '%')"
      ]
     },
     "execution_count": 8,
     "metadata": {},
     "output_type": "execute_result"
    },
    {
     "data": {
      "text/plain": [
       "Text(0.5, 1.0, 'Target Class Balance')"
      ]
     },
     "execution_count": 8,
     "metadata": {},
     "output_type": "execute_result"
    },
    {
     "data": {
      "text/plain": [
       "[<matplotlib.axis.XTick at 0x1a1bcb0da00>,\n",
       " <matplotlib.axis.XTick at 0x1a1bca5c5b0>]"
      ]
     },
     "execution_count": 8,
     "metadata": {},
     "output_type": "execute_result"
    },
    {
     "data": {
      "text/plain": [
       "[Text(0, 0, '57.03'), Text(0, 0, '42.97')]"
      ]
     },
     "execution_count": 8,
     "metadata": {},
     "output_type": "execute_result"
    },
    {
     "data": {
      "text/plain": [
       "<Figure size 720x720 with 0 Axes>"
      ]
     },
     "metadata": {},
     "output_type": "display_data"
    },
    {
     "data": {
      "image/png": "[encoded data removed]",
      "text/plain": [
       "<Figure size 432x288 with 1 Axes>"
      ]
     },
     "metadata": {
      "needs_background": "light"
     },
     "output_type": "display_data"
    }
   ],
   "source": [
    "# Plot Bar Plot of Target Class\n",
    "\n",
    "plt.figure(figsize=(10,10))\n",
    "fig, ax = plt.subplots()\n",
    "\n",
    "# creating the dataset\n",
    "data = {'Class 0': round(perc_0*100, 2), 'Class 1': round(perc_1*100, 2)}\n",
    "classes = list(data.keys())\n",
    "values = list(data.values())\n",
    "\n",
    "cmap_blue = plt.cm.get_cmap('GnBu')\n",
    "blue = cmap_blue(0.8)\n",
    "\n",
    "cmap_org = plt.cm.get_cmap('Oranges')\n",
    "orange = cmap_org(0.5)\n",
    "\n",
    "p1 = ax.bar(classes, values, color=[blue, orange])\n",
    "ax.set_ylabel('%')\n",
    "ax.set_title('Target Class Balance')\n",
    "ax.set_xticks(classes)\n",
    "\n",
    "# Label with label_type 'center' instead of the default 'edge'\n",
    "ax.bar_label(p1)\n",
    "\n",
    "plt.show()"
   ]
  },
  {
   "cell_type": "markdown",
   "id": "45244391-6043-4f64-b8d1-439dea28b395",
   "metadata": {},
   "source": [
    "### __EDA - Exploratory Data Analysis__\n",
    "\n",
    "#### __Check Variable Values__"
   ]
  },
  {
   "cell_type": "code",
   "execution_count": 9,
   "id": "12f5f6ff-1e9c-47d7-a7a9-86150ac9915b",
   "metadata": {},
   "outputs": [
    {
     "data": {
      "text/plain": [
       "fatalities               45\n",
       "deluge                   42\n",
       "armageddon               42\n",
       "sinking                  41\n",
       "damage                   41\n",
       "                         ..\n",
       "forest%20fire            19\n",
       "epicentre                12\n",
       "threat                   11\n",
       "inundation               10\n",
       "radiation%20emergency     9\n",
       "Name: keyword, Length: 221, dtype: int64"
      ]
     },
     "execution_count": 9,
     "metadata": {},
     "output_type": "execute_result"
    },
    {
     "data": {
      "text/plain": [
       "USA                    104\n",
       "New York                71\n",
       "United States           50\n",
       "London                  45\n",
       "Canada                  29\n",
       "                      ... \n",
       "MontrÌ©al, QuÌ©bec       1\n",
       "Montreal                 1\n",
       "ÌÏT: 6.4682,3.18287      1\n",
       "Live4Heed??              1\n",
       "Lincoln                  1\n",
       "Name: location, Length: 3341, dtype: int64"
      ]
     },
     "execution_count": 9,
     "metadata": {},
     "output_type": "execute_result"
    },
    {
     "name": "stdout",
     "output_type": "stream",
     "text": [
      "\n",
      "keyword: 221 | [nan 'ablaze' 'accident' 'aftershock' 'airplane%20accident' 'ambulance'\n",
      " 'annihilated' 'annihilation' 'apocalypse' 'armageddon' 'army' 'arson'\n",
      " 'arsonist' 'attack' 'attacked' 'avalanche' 'battle' 'bioterror'\n",
      " 'bioterrorism' 'blaze' 'blazing' 'bleeding' 'blew%20up' 'blight'\n",
      " 'blizzard' 'blood' 'bloody' 'blown%20up' 'body%20bag' 'body%20bagging'\n",
      " 'body%20bags' 'bomb' 'bombed' 'bombing' 'bridge%20collapse'\n",
      " 'buildings%20burning' 'buildings%20on%20fire' 'burned' 'burning'\n",
      " 'burning%20buildings' 'bush%20fires' 'casualties' 'casualty'\n",
      " 'catastrophe' 'catastrophic' 'chemical%20emergency' 'cliff%20fall'\n",
      " 'collapse' 'collapsed' 'collide' 'collided' 'collision' 'crash' 'crashed'\n",
      " 'crush' 'crushed' 'curfew' 'cyclone' 'damage' 'danger' 'dead' 'death'\n",
      " 'deaths' 'debris' 'deluge' 'deluged' 'demolish' 'demolished' 'demolition'\n",
      " 'derail' 'derailed' 'derailment' 'desolate' 'desolation' 'destroy'\n",
      " 'destroyed' 'destruction' 'detonate' 'detonation' 'devastated'\n",
      " 'devastation' 'disaster' 'displaced' 'drought' 'drown' 'drowned'\n",
      " 'drowning' 'dust%20storm' 'earthquake' 'electrocute' 'electrocuted'\n",
      " 'emergency' 'emergency%20plan' 'emergency%20services' 'engulfed'\n",
      " 'epicentre' 'evacuate' 'evacuated' 'evacuation' 'explode' 'exploded'\n",
      " 'explosion' 'eyewitness' 'famine' 'fatal' 'fatalities' 'fatality' 'fear'\n",
      " 'fire' 'fire%20truck' 'first%20responders' 'flames' 'flattened' 'flood'\n",
      " 'flooding' 'floods' 'forest%20fire' 'forest%20fires' 'hail' 'hailstorm'\n",
      " 'harm' 'hazard' 'hazardous' 'heat%20wave' 'hellfire' 'hijack' 'hijacker'\n",
      " 'hijacking' 'hostage' 'hostages' 'hurricane' 'injured' 'injuries'\n",
      " 'injury' 'inundated' 'inundation' 'landslide' 'lava' 'lightning'\n",
      " 'loud%20bang' 'mass%20murder' 'mass%20murderer' 'massacre' 'mayhem'\n",
      " 'meltdown' 'military' 'mudslide' 'natural%20disaster'\n",
      " 'nuclear%20disaster' 'nuclear%20reactor' 'obliterate' 'obliterated'\n",
      " 'obliteration' 'oil%20spill' 'outbreak' 'pandemonium' 'panic' 'panicking'\n",
      " 'police' 'quarantine' 'quarantined' 'radiation%20emergency' 'rainstorm'\n",
      " 'razed' 'refugees' 'rescue' 'rescued' 'rescuers' 'riot' 'rioting'\n",
      " 'rubble' 'ruin' 'sandstorm' 'screamed' 'screaming' 'screams' 'seismic'\n",
      " 'sinkhole' 'sinking' 'siren' 'sirens' 'smoke' 'snowstorm' 'storm'\n",
      " 'stretcher' 'structural%20failure' 'suicide%20bomb' 'suicide%20bomber'\n",
      " 'suicide%20bombing' 'sunk' 'survive' 'survived' 'survivors' 'terrorism'\n",
      " 'terrorist' 'threat' 'thunder' 'thunderstorm' 'tornado' 'tragedy'\n",
      " 'trapped' 'trauma' 'traumatised' 'trouble' 'tsunami' 'twister' 'typhoon'\n",
      " 'upheaval' 'violent%20storm' 'volcano' 'war%20zone' 'weapon' 'weapons'\n",
      " 'whirlwind' 'wild%20fires' 'wildfire' 'windstorm' 'wounded' 'wounds'\n",
      " 'wreck' 'wreckage' 'wrecked']\n",
      "\n",
      "location: 3341 | [nan 'Birmingham' 'Est. September 2012 - Bristol' ... 'Vancouver, Canada'\n",
      " 'London ' 'Lincoln']\n"
     ]
    }
   ],
   "source": [
    "train_df['keyword'].value_counts()\n",
    "train_df['location'].value_counts()\n",
    "\n",
    "print(f\"\\nkeyword: {train_df['keyword'].nunique()} | {train_df['keyword'].unique()}\")\n",
    "print(f\"\\nlocation: {train_df['location'].nunique()} | {train_df['location'].unique()}\")"
   ]
  },
  {
   "cell_type": "markdown",
   "id": "71d5e17d-e2ed-492e-84b1-037402c256aa",
   "metadata": {},
   "source": [
    "### __Data Preprocessing__"
   ]
  },
  {
   "cell_type": "markdown",
   "id": "38321653-d34b-40fb-aaa3-ed188cc1f6e6",
   "metadata": {},
   "source": [
    "#### Text Cleaning\n",
    "\n",
    "- Tokenization\n",
    "- Stopwords cleaning\n",
    "- Removing punctuation\n",
    "- Normalizing\n",
    "- Stemming"
   ]
  },
  {
   "cell_type": "markdown",
   "id": "e72aa93f-c717-4d8c-8577-dc92e52e3b8e",
   "metadata": {},
   "source": [
    "#### __Reference Links:__\n",
    "> - https://stackoverflow.com/questions/11331982/how-to-remove-any-url-within-a-string-in-python\n",
    "> - https://goodboychan.github.io/python/datacamp/natural_language_processing/2020/07/17/04-TF-IDF-and-similarity-scores.html\n",
    "> - https://notebook.community/ianozsvald/word2vec_sentences_vs_target_sentence_demo/word2vec%20similarity%20example"
   ]
  },
  {
   "cell_type": "code",
   "execution_count": 61,
   "id": "8effda1a-9f11-47d4-96c9-513eeafb0d6f",
   "metadata": {},
   "outputs": [
    {
     "data": {
      "text/plain": [
       "'M1.94 [01:04 UTC]?5km S of Volcano Hawaii. http://t.co/zDtoyd8EbJ'"
      ]
     },
     "execution_count": 61,
     "metadata": {},
     "output_type": "execute_result"
    },
    {
     "data": {
      "text/plain": [
       "'M1.94 [01:04 UTC]?5km S of Volcano Hawaii. http://t.co/zDtoyd8EbJ'"
      ]
     },
     "execution_count": 61,
     "metadata": {},
     "output_type": "execute_result"
    },
    {
     "data": {
      "text/plain": [
       "'M1.94 [01:04 UTC]?5km S of Volcano Hawaii. http://t.co/zDtoyd8EbJ'"
      ]
     },
     "execution_count": 61,
     "metadata": {},
     "output_type": "execute_result"
    },
    {
     "data": {
      "text/plain": [
       "'M1.94 [01:04 UTC]?5km S of Volcano Hawaii.'"
      ]
     },
     "execution_count": 61,
     "metadata": {},
     "output_type": "execute_result"
    }
   ],
   "source": [
    "# testing url removal\n",
    "text = train_df['text'][7610]\n",
    "text\n",
    "text1 = re.sub(r'^https?:\\/\\/.*[\\r\\n]*', '', text, flags=re.MULTILINE)\n",
    "text1\n",
    "text2 = re.sub(r'^http:\\/\\/.*[\\r\\n]*', '', text1, flags=re.MULTILINE)\n",
    "text2\n",
    "text3 = re.sub(r'.http:\\/\\/.*[\\r\\n]*', '', text2, flags=re.MULTILINE)\n",
    "text3"
   ]
  },
  {
   "cell_type": "code",
   "execution_count": 62,
   "id": "24a3b09a-a9a5-4b71-9f53-b5862be0f997",
   "metadata": {},
   "outputs": [],
   "source": [
    "# function for removing any url within string\n",
    "def remove_url(text):\n",
    "    \n",
    "    text1 = re.sub(r'^https?:\\/\\/.*[\\r\\n]*', '', text, flags=re.MULTILINE)\n",
    "    text2 = re.sub(r'^http:\\/\\/.*[\\r\\n]*', '', text1, flags=re.MULTILINE)\n",
    "    text3 = re.sub(r'.http:\\/\\/.*[\\r\\n]*', '', text2, flags=re.MULTILINE)\n",
    "    text4 = re.sub(r'.https?:\\/\\/.*[\\r\\n]*', '', text3, flags=re.MULTILINE)\n",
    "    \n",
    "    return text4"
   ]
  },
  {
   "cell_type": "code",
   "execution_count": 63,
   "id": "598a7eca-7b82-4e5b-b8ac-cccbf4c274c1",
   "metadata": {},
   "outputs": [
    {
     "data": {
      "text/plain": [
       "'M1.94 [01:04 UTC]?5km S of Volcano Hawaii.'"
      ]
     },
     "execution_count": 63,
     "metadata": {},
     "output_type": "execute_result"
    }
   ],
   "source": [
    "remove_url(text)"
   ]
  },
  {
   "cell_type": "code",
   "execution_count": 22,
   "id": "535d276f-b01c-48ab-a7b0-6648a0d928b7",
   "metadata": {},
   "outputs": [],
   "source": [
    "# function that splits a sentence to a list of words\n",
    "def words_split(text):\n",
    "    # split into words by white space\n",
    "    words = text.split()\n",
    "    \n",
    "    return words"
   ]
  },
  {
   "cell_type": "code",
   "execution_count": 23,
   "id": "26b20fd4-bcfc-4560-918b-25137bf7d2bc",
   "metadata": {},
   "outputs": [
    {
     "name": "stdout",
     "output_type": "stream",
     "text": [
      "!\"#$%&'()*+,-./:;<=>?@[\\]^_`{|}~\n"
     ]
    }
   ],
   "source": [
    "print(string.punctuation)"
   ]
  },
  {
   "cell_type": "code",
   "execution_count": 24,
   "id": "0435b8a1-a179-4dfb-8f9c-77b03b9f9422",
   "metadata": {},
   "outputs": [],
   "source": [
    "# function for removing punctuations\n",
    "def remove_punc(words):\n",
    "\n",
    "    # remove punctuation from each word\n",
    "    table = str.maketrans('', '', string.punctuation)\n",
    "    stripped_words = [w.translate(table) for w in words]\n",
    "    \n",
    "    return stripped_words"
   ]
  },
  {
   "cell_type": "code",
   "execution_count": 25,
   "id": "60fb203d-36ba-46f2-b54c-a9e9e8f54cd7",
   "metadata": {},
   "outputs": [],
   "source": [
    "# function for normalizing texts\n",
    "def normalize(words):\n",
    "\n",
    "    # convert to lower case\n",
    "    words = [word.lower() for word in words]\n",
    "    \n",
    "    return words"
   ]
  },
  {
   "cell_type": "code",
   "execution_count": 26,
   "id": "b4217236-acf5-446e-bb64-46db7f19f5ce",
   "metadata": {},
   "outputs": [
    {
     "name": "stdout",
     "output_type": "stream",
     "text": [
      "Requirement already satisfied: unidecode in c:\\users\\user\\anaconda3\\envs\\jupyterlab-3.2.1\\lib\\site-packages (1.3.4)\n"
     ]
    }
   ],
   "source": [
    "!pip install unidecode"
   ]
  },
  {
   "cell_type": "code",
   "execution_count": 27,
   "id": "7a23c7b6-160a-442a-8a83-8c51ab282602",
   "metadata": {},
   "outputs": [
    {
     "data": {
      "text/plain": [
       "'Abcdeacoauu'"
      ]
     },
     "execution_count": 27,
     "metadata": {},
     "output_type": "execute_result"
    },
    {
     "data": {
      "text/plain": [
       "'Abcdeacoauu'"
      ]
     },
     "execution_count": 27,
     "metadata": {},
     "output_type": "execute_result"
    }
   ],
   "source": [
    "import unidecode\n",
    "s = u'Ábcdêãçoàúü'\n",
    "n = 'Ábcdêãçoàúü'\n",
    "unidecode.unidecode(s)\n",
    "unidecode.unidecode(n)"
   ]
  },
  {
   "cell_type": "code",
   "execution_count": 28,
   "id": "e7290d39-2b77-42db-9b22-b55a4569a0d0",
   "metadata": {},
   "outputs": [],
   "source": [
    "# function for removing stop words\n",
    "def remove_unicode(words):\n",
    "\n",
    "    words = [unidecode.unidecode(w) for w in words]\n",
    "    \n",
    "    return words"
   ]
  },
  {
   "cell_type": "code",
   "execution_count": 29,
   "id": "2bd8e939-844e-4bc7-aac6-f8f0a929ff6a",
   "metadata": {},
   "outputs": [
    {
     "data": {
      "text/plain": [
       "'There are only  classes left.'"
      ]
     },
     "execution_count": 29,
     "metadata": {},
     "output_type": "execute_result"
    }
   ],
   "source": [
    "import re\n",
    "s = \"There are only 4 classes left.\"\n",
    "re.sub(r'\\d+', '', s)"
   ]
  },
  {
   "cell_type": "code",
   "execution_count": 30,
   "id": "c40d5474-5985-4adc-a257-7faf3346d9bc",
   "metadata": {},
   "outputs": [],
   "source": [
    "# function for removing numbers\n",
    "def remove_numbers(words):\n",
    "\n",
    "    words = [re.sub(r'\\d+', '', w) for w in words]\n",
    "    \n",
    "    return words"
   ]
  },
  {
   "cell_type": "code",
   "execution_count": 31,
   "id": "64b63dc2-7975-4931-8acf-c2c319c6fe83",
   "metadata": {},
   "outputs": [
    {
     "name": "stdout",
     "output_type": "stream",
     "text": [
      "Requirement already satisfied: pattern in c:\\users\\user\\anaconda3\\envs\\jupyterlab-3.2.1\\lib\\site-packages (3.6)\n",
      "Requirement already satisfied: beautifulsoup4 in c:\\users\\user\\anaconda3\\envs\\jupyterlab-3.2.1\\lib\\site-packages (from pattern) (4.10.0)\n",
      "Requirement already satisfied: scipy in c:\\users\\user\\anaconda3\\envs\\jupyterlab-3.2.1\\lib\\site-packages (from pattern) (1.7.3)\n",
      "Requirement already satisfied: backports.csv in c:\\users\\user\\anaconda3\\envs\\jupyterlab-3.2.1\\lib\\site-packages (from pattern) (1.0.7)\n",
      "Requirement already satisfied: mysqlclient in c:\\users\\user\\anaconda3\\envs\\jupyterlab-3.2.1\\lib\\site-packages (from pattern) (2.1.0)\n",
      "Requirement already satisfied: nltk in c:\\users\\user\\anaconda3\\envs\\jupyterlab-3.2.1\\lib\\site-packages (from pattern) (3.7)\n",
      "Requirement already satisfied: future in c:\\users\\user\\anaconda3\\envs\\jupyterlab-3.2.1\\lib\\site-packages (from pattern) (0.18.2)\n",
      "Requirement already satisfied: feedparser in c:\\users\\user\\anaconda3\\envs\\jupyterlab-3.2.1\\lib\\site-packages (from pattern) (6.0.8)\n",
      "Requirement already satisfied: python-docx in c:\\users\\user\\anaconda3\\envs\\jupyterlab-3.2.1\\lib\\site-packages (from pattern) (0.8.11)\n",
      "Requirement already satisfied: lxml in c:\\users\\user\\anaconda3\\envs\\jupyterlab-3.2.1\\lib\\site-packages (from pattern) (4.7.1)\n",
      "Requirement already satisfied: cherrypy in c:\\users\\user\\anaconda3\\envs\\jupyterlab-3.2.1\\lib\\site-packages (from pattern) (18.6.1)\n",
      "Requirement already satisfied: pdfminer.six in c:\\users\\user\\anaconda3\\envs\\jupyterlab-3.2.1\\lib\\site-packages (from pattern) (20220319)\n",
      "Requirement already satisfied: numpy in c:\\users\\user\\anaconda3\\envs\\jupyterlab-3.2.1\\lib\\site-packages (from pattern) (1.22.1)\n",
      "Requirement already satisfied: requests in c:\\users\\user\\anaconda3\\envs\\jupyterlab-3.2.1\\lib\\site-packages (from pattern) (2.22.0)\n",
      "Requirement already satisfied: soupsieve>1.2 in c:\\users\\user\\anaconda3\\envs\\jupyterlab-3.2.1\\lib\\site-packages (from beautifulsoup4->pattern) (2.3.1)\n",
      "Requirement already satisfied: portend>=2.1.1 in c:\\users\\user\\anaconda3\\envs\\jupyterlab-3.2.1\\lib\\site-packages (from cherrypy->pattern) (3.1.0)\n",
      "Requirement already satisfied: zc.lockfile in c:\\users\\user\\anaconda3\\envs\\jupyterlab-3.2.1\\lib\\site-packages (from cherrypy->pattern) (2.0)\n",
      "Requirement already satisfied: more-itertools in c:\\users\\user\\anaconda3\\envs\\jupyterlab-3.2.1\\lib\\site-packages (from cherrypy->pattern) (8.12.0)\n",
      "Requirement already satisfied: cheroot>=8.2.1 in c:\\users\\user\\anaconda3\\envs\\jupyterlab-3.2.1\\lib\\site-packages (from cherrypy->pattern) (8.6.0)\n",
      "Requirement already satisfied: jaraco.collections in c:\\users\\user\\anaconda3\\envs\\jupyterlab-3.2.1\\lib\\site-packages (from cherrypy->pattern) (3.5.1)\n",
      "Requirement already satisfied: pywin32>=227 in c:\\users\\user\\appdata\\roaming\\python\\python39\\site-packages (from cherrypy->pattern) (303)\n",
      "Requirement already satisfied: jaraco.functools in c:\\users\\user\\anaconda3\\envs\\jupyterlab-3.2.1\\lib\\site-packages (from cheroot>=8.2.1->cherrypy->pattern) (3.5.0)\n",
      "Requirement already satisfied: six>=1.11.0 in c:\\users\\user\\anaconda3\\envs\\jupyterlab-3.2.1\\lib\\site-packages (from cheroot>=8.2.1->cherrypy->pattern) (1.16.0)\n",
      "Requirement already satisfied: tempora>=1.8 in c:\\users\\user\\anaconda3\\envs\\jupyterlab-3.2.1\\lib\\site-packages (from portend>=2.1.1->cherrypy->pattern) (5.0.1)\n",
      "Requirement already satisfied: pytz in c:\\users\\user\\anaconda3\\envs\\jupyterlab-3.2.1\\lib\\site-packages (from tempora>=1.8->portend>=2.1.1->cherrypy->pattern) (2021.3)\n",
      "Requirement already satisfied: sgmllib3k in c:\\users\\user\\anaconda3\\envs\\jupyterlab-3.2.1\\lib\\site-packages (from feedparser->pattern) (1.0.0)\n",
      "Requirement already satisfied: jaraco.text in c:\\users\\user\\anaconda3\\envs\\jupyterlab-3.2.1\\lib\\site-packages (from jaraco.collections->cherrypy->pattern) (3.7.0)\n",
      "Requirement already satisfied: jaraco.classes in c:\\users\\user\\anaconda3\\envs\\jupyterlab-3.2.1\\lib\\site-packages (from jaraco.collections->cherrypy->pattern) (3.2.1)\n",
      "Requirement already satisfied: jaraco.context>=4.1 in c:\\users\\user\\anaconda3\\envs\\jupyterlab-3.2.1\\lib\\site-packages (from jaraco.text->jaraco.collections->cherrypy->pattern) (4.1.1)\n",
      "Requirement already satisfied: click in c:\\users\\user\\appdata\\roaming\\python\\python39\\site-packages (from nltk->pattern) (8.0.3)\n",
      "Requirement already satisfied: tqdm in c:\\users\\user\\anaconda3\\envs\\jupyterlab-3.2.1\\lib\\site-packages (from nltk->pattern) (4.63.0)\n",
      "Requirement already satisfied: joblib in c:\\users\\user\\anaconda3\\envs\\jupyterlab-3.2.1\\lib\\site-packages (from nltk->pattern) (1.1.0)\n",
      "Requirement already satisfied: regex>=2021.8.3 in c:\\users\\user\\anaconda3\\envs\\jupyterlab-3.2.1\\lib\\site-packages (from nltk->pattern) (2022.1.18)\n",
      "Requirement already satisfied: colorama in c:\\users\\user\\anaconda3\\envs\\jupyterlab-3.2.1\\lib\\site-packages (from click->nltk->pattern) (0.4.4)\n",
      "Requirement already satisfied: chardet in c:\\users\\user\\anaconda3\\envs\\jupyterlab-3.2.1\\lib\\site-packages (from pdfminer.six->pattern) (3.0.4)\n",
      "Requirement already satisfied: cryptography in c:\\users\\user\\anaconda3\\envs\\jupyterlab-3.2.1\\lib\\site-packages (from pdfminer.six->pattern) (36.0.0)\n",
      "Requirement already satisfied: cffi>=1.12 in c:\\users\\user\\anaconda3\\envs\\jupyterlab-3.2.1\\lib\\site-packages (from cryptography->pdfminer.six->pattern) (1.15.0)\n",
      "Requirement already satisfied: pycparser in c:\\users\\user\\anaconda3\\envs\\jupyterlab-3.2.1\\lib\\site-packages (from cffi>=1.12->cryptography->pdfminer.six->pattern) (2.21)\n",
      "Requirement already satisfied: certifi>=2017.4.17 in c:\\users\\user\\anaconda3\\envs\\jupyterlab-3.2.1\\lib\\site-packages (from requests->pattern) (2021.10.8)\n",
      "Requirement already satisfied: idna<2.9,>=2.5 in c:\\users\\user\\anaconda3\\envs\\jupyterlab-3.2.1\\lib\\site-packages (from requests->pattern) (2.8)\n",
      "Requirement already satisfied: urllib3!=1.25.0,!=1.25.1,<1.26,>=1.21.1 in c:\\users\\user\\anaconda3\\envs\\jupyterlab-3.2.1\\lib\\site-packages (from requests->pattern) (1.25.11)\n",
      "Requirement already satisfied: setuptools in c:\\users\\user\\anaconda3\\envs\\jupyterlab-3.2.1\\lib\\site-packages (from zc.lockfile->cherrypy->pattern) (58.0.4)\n"
     ]
    }
   ],
   "source": [
    "!pip install pattern"
   ]
  },
  {
   "cell_type": "code",
   "execution_count": 33,
   "id": "b2d2be37-7903-4fe4-9f1d-562660def402",
   "metadata": {},
   "outputs": [
    {
     "data": {
      "text/plain": [
       "[('car', 0.5), ('czar', 0.42857142857142855), ('saar', 0.07142857142857142)]"
      ]
     },
     "execution_count": 33,
     "metadata": {},
     "output_type": "execute_result"
    },
    {
     "data": {
      "text/plain": [
       "[('message', 0.6216216216216216), ('massage', 0.3783783783783784)]"
      ]
     },
     "execution_count": 33,
     "metadata": {},
     "output_type": "execute_result"
    },
    {
     "data": {
      "text/plain": [
       "[('service', 0.9253112033195021), ('survive', 0.07468879668049792)]"
      ]
     },
     "execution_count": 33,
     "metadata": {},
     "output_type": "execute_result"
    },
    {
     "data": {
      "text/plain": [
       "[('the', 0.8653201565642368),\n",
       " ('he', 0.13408515883485067),\n",
       " ('ate', 0.00022706139307570876),\n",
       " ('hate', 0.0002162489457863893),\n",
       " ('hue', 0.00012974936747183358),\n",
       " ('te', 1.0812447289319465e-05),\n",
       " ('htm', 1.0812447289319465e-05)]"
      ]
     },
     "execution_count": 33,
     "metadata": {},
     "output_type": "execute_result"
    },
    {
     "data": {
      "text/plain": [
       "[('whisky', 0.9333333333333333), ('risky', 0.06666666666666667)]"
      ]
     },
     "execution_count": 33,
     "metadata": {},
     "output_type": "execute_result"
    }
   ],
   "source": [
    "from pattern.en import suggest\n",
    "\n",
    "suggest(u'caar')\n",
    "suggest(u'mussage')\n",
    "suggest(u'survice')\n",
    "suggest(u'hte')\n",
    "suggest(u\"wisky\")"
   ]
  },
  {
   "cell_type": "code",
   "execution_count": 34,
   "id": "7817f536-cb32-4069-9523-5899818aee7f",
   "metadata": {},
   "outputs": [
    {
     "data": {
      "text/plain": [
       "'car'"
      ]
     },
     "execution_count": 34,
     "metadata": {},
     "output_type": "execute_result"
    },
    {
     "data": {
      "text/plain": [
       "'message'"
      ]
     },
     "execution_count": 34,
     "metadata": {},
     "output_type": "execute_result"
    }
   ],
   "source": [
    "suggest(u'caar')[0][0]\n",
    "w = 'mussage'\n",
    "suggest(w)[0][0]"
   ]
  },
  {
   "cell_type": "code",
   "execution_count": 35,
   "id": "625ff54a-45b4-4230-9610-b481c01d0dcb",
   "metadata": {},
   "outputs": [],
   "source": [
    "# function for spelling check\n",
    "def spell_check(words):\n",
    "\n",
    "    words = [suggest(w)[0][0] for w in words]\n",
    "    \n",
    "    return words"
   ]
  },
  {
   "cell_type": "code",
   "execution_count": 36,
   "id": "f0f92f76-bcd4-4531-9277-029f6f08c6b2",
   "metadata": {},
   "outputs": [],
   "source": [
    "# function for removing stop words\n",
    "def remove_stopwords(words):\n",
    "\n",
    "    stop_words = set(stopwords.words('english'))\n",
    "    words = [w for w in words if not w in stop_words]\n",
    "    \n",
    "    return words"
   ]
  },
  {
   "cell_type": "code",
   "execution_count": 37,
   "id": "d7b3087f-35a3-4f8e-aab0-a774cab18e58",
   "metadata": {},
   "outputs": [],
   "source": [
    "# function for lemmatizing texts\n",
    "def lemmatize(words):\n",
    "\n",
    "    lemmatizer = WordNetLemmatizer()\n",
    "    words = [lemmatizer.lemmatize(word) for word in words]\n",
    "    \n",
    "    return words"
   ]
  },
  {
   "cell_type": "code",
   "execution_count": 38,
   "id": "20cef3d9-16f7-4dd0-8bf2-c9cabf61f248",
   "metadata": {},
   "outputs": [],
   "source": [
    "# function:\n",
    "def stem_text(words):\n",
    "\n",
    "    porter = PorterStemmer()\n",
    "    stemmed = [porter.stem(word) for word in words]\n",
    "    \n",
    "    return stemmed"
   ]
  },
  {
   "cell_type": "code",
   "execution_count": 64,
   "id": "4c9829b6-ac6f-4233-8119-39b879e60b72",
   "metadata": {},
   "outputs": [],
   "source": [
    "# function for preprocessing all the steps above\n",
    "def preprocess_all(text):\n",
    "    \n",
    "    no_url = remove_url(text)\n",
    "    words = words_split(no_url)\n",
    "    no_numbers = remove_numbers(words)\n",
    "    no_unicode = remove_unicode(no_numbers)\n",
    "    words_no_punc = remove_punc(no_unicode)\n",
    "    words_normalized = normalize(words_no_punc)\n",
    "    #words_spellchecked = spell_check(words_normalized)\n",
    "    no_stop__words = remove_stopwords(words_normalized)\n",
    "    lemmatized = lemmatize(no_stop__words)\n",
    "    sentence = \" \".join(lemmatized)\n",
    "    sentence = \" \".join(sentence.split())\n",
    "    #preprocessed_words = stem_text(lemmatized)\n",
    "    \n",
    "    return sentence"
   ]
  },
  {
   "cell_type": "code",
   "execution_count": 65,
   "id": "6e4e710f-c69e-46d1-804f-57f15078ce7d",
   "metadata": {},
   "outputs": [
    {
     "name": "stderr",
     "output_type": "stream",
     "text": [
      "[nltk_data] Downloading package stopwords to\n",
      "[nltk_data]     C:\\Users\\User\\AppData\\Roaming\\nltk_data...\n",
      "[nltk_data]   Package stopwords is already up-to-date!\n"
     ]
    },
    {
     "data": {
      "text/plain": [
       "True"
      ]
     },
     "execution_count": 65,
     "metadata": {},
     "output_type": "execute_result"
    },
    {
     "name": "stderr",
     "output_type": "stream",
     "text": [
      "[nltk_data] Downloading package wordnet to\n",
      "[nltk_data]     C:\\Users\\User\\AppData\\Roaming\\nltk_data...\n",
      "[nltk_data]   Package wordnet is already up-to-date!\n"
     ]
    },
    {
     "data": {
      "text/plain": [
       "True"
      ]
     },
     "execution_count": 65,
     "metadata": {},
     "output_type": "execute_result"
    },
    {
     "data": {
      "text/plain": [
       "['deed reason earthquake may allah forgive u',\n",
       " 'forest fire near la ronge sask canada',\n",
       " 'resident asked shelter place notified officer evacuation shelter place order expected',\n",
       " 'people receive wildfire evacuation order california',\n",
       " 'got sent photo ruby alaska smoke wildfire pours school']"
      ]
     },
     "execution_count": 65,
     "metadata": {},
     "output_type": "execute_result"
    }
   ],
   "source": [
    "import nltk\n",
    "nltk.download('stopwords')\n",
    "nltk.download('wordnet')\n",
    "\n",
    "quick_test = [preprocess_all(data) for data in train_df['text'][:5]]\n",
    "quick_test"
   ]
  },
  {
   "cell_type": "code",
   "execution_count": 66,
   "id": "1bf10216-95fc-4e09-b2bc-d6e823499b23",
   "metadata": {},
   "outputs": [
    {
     "name": "stdout",
     "output_type": "stream",
     "text": [
      "<class 'pandas.core.frame.DataFrame'>\n",
      "RangeIndex: 7613 entries, 0 to 7612\n",
      "Data columns (total 6 columns):\n",
      " #   Column             Non-Null Count  Dtype \n",
      "---  ------             --------------  ----- \n",
      " 0   id                 7613 non-null   int64 \n",
      " 1   keyword            7552 non-null   object\n",
      " 2   location           5080 non-null   object\n",
      " 3   text               7613 non-null   object\n",
      " 4   target             7613 non-null   int64 \n",
      " 5   text_preprocessed  7613 non-null   object\n",
      "dtypes: int64(2), object(4)\n",
      "memory usage: 357.0+ KB\n"
     ]
    },
    {
     "data": {
      "text/html": [
       "<div>\n",
       "<style scoped>\n",
       "    .dataframe tbody tr th:only-of-type {\n",
       "        vertical-align: middle;\n",
       "    }\n",
       "\n",
       "    .dataframe tbody tr th {\n",
       "        vertical-align: top;\n",
       "    }\n",
       "\n",
       "    .dataframe thead th {\n",
       "        text-align: right;\n",
       "    }\n",
       "</style>\n",
       "<table border=\"1\" class=\"dataframe\">\n",
       "  <thead>\n",
       "    <tr style=\"text-align: right;\">\n",
       "      <th></th>\n",
       "      <th>id</th>\n",
       "      <th>keyword</th>\n",
       "      <th>location</th>\n",
       "      <th>text</th>\n",
       "      <th>target</th>\n",
       "      <th>text_preprocessed</th>\n",
       "    </tr>\n",
       "  </thead>\n",
       "  <tbody>\n",
       "    <tr>\n",
       "      <th>0</th>\n",
       "      <td>1</td>\n",
       "      <td>NaN</td>\n",
       "      <td>NaN</td>\n",
       "      <td>Our Deeds are the Reason of this #earthquake M...</td>\n",
       "      <td>1</td>\n",
       "      <td>deed reason earthquake may allah forgive u</td>\n",
       "    </tr>\n",
       "    <tr>\n",
       "      <th>1</th>\n",
       "      <td>4</td>\n",
       "      <td>NaN</td>\n",
       "      <td>NaN</td>\n",
       "      <td>Forest fire near La Ronge Sask. Canada</td>\n",
       "      <td>1</td>\n",
       "      <td>forest fire near la ronge sask canada</td>\n",
       "    </tr>\n",
       "    <tr>\n",
       "      <th>2</th>\n",
       "      <td>5</td>\n",
       "      <td>NaN</td>\n",
       "      <td>NaN</td>\n",
       "      <td>All residents asked to 'shelter in place' are ...</td>\n",
       "      <td>1</td>\n",
       "      <td>resident asked shelter place notified officer ...</td>\n",
       "    </tr>\n",
       "    <tr>\n",
       "      <th>3</th>\n",
       "      <td>6</td>\n",
       "      <td>NaN</td>\n",
       "      <td>NaN</td>\n",
       "      <td>13,000 people receive #wildfires evacuation or...</td>\n",
       "      <td>1</td>\n",
       "      <td>people receive wildfire evacuation order calif...</td>\n",
       "    </tr>\n",
       "    <tr>\n",
       "      <th>4</th>\n",
       "      <td>7</td>\n",
       "      <td>NaN</td>\n",
       "      <td>NaN</td>\n",
       "      <td>Just got sent this photo from Ruby #Alaska as ...</td>\n",
       "      <td>1</td>\n",
       "      <td>got sent photo ruby alaska smoke wildfire pour...</td>\n",
       "    </tr>\n",
       "    <tr>\n",
       "      <th>...</th>\n",
       "      <td>...</td>\n",
       "      <td>...</td>\n",
       "      <td>...</td>\n",
       "      <td>...</td>\n",
       "      <td>...</td>\n",
       "      <td>...</td>\n",
       "    </tr>\n",
       "    <tr>\n",
       "      <th>7608</th>\n",
       "      <td>10869</td>\n",
       "      <td>NaN</td>\n",
       "      <td>NaN</td>\n",
       "      <td>Two giant cranes holding a bridge collapse int...</td>\n",
       "      <td>1</td>\n",
       "      <td>two giant crane holding bridge collapse nearby...</td>\n",
       "    </tr>\n",
       "    <tr>\n",
       "      <th>7609</th>\n",
       "      <td>10870</td>\n",
       "      <td>NaN</td>\n",
       "      <td>NaN</td>\n",
       "      <td>@aria_ahrary @TheTawniest The out of control w...</td>\n",
       "      <td>1</td>\n",
       "      <td>ariaahrary thetawniest control wild fire calif...</td>\n",
       "    </tr>\n",
       "    <tr>\n",
       "      <th>7610</th>\n",
       "      <td>10871</td>\n",
       "      <td>NaN</td>\n",
       "      <td>NaN</td>\n",
       "      <td>M1.94 [01:04 UTC]?5km S of Volcano Hawaii. htt...</td>\n",
       "      <td>1</td>\n",
       "      <td>utckm volcano hawaii</td>\n",
       "    </tr>\n",
       "    <tr>\n",
       "      <th>7611</th>\n",
       "      <td>10872</td>\n",
       "      <td>NaN</td>\n",
       "      <td>NaN</td>\n",
       "      <td>Police investigating after an e-bike collided ...</td>\n",
       "      <td>1</td>\n",
       "      <td>police investigating ebike collided car little...</td>\n",
       "    </tr>\n",
       "    <tr>\n",
       "      <th>7612</th>\n",
       "      <td>10873</td>\n",
       "      <td>NaN</td>\n",
       "      <td>NaN</td>\n",
       "      <td>The Latest: More Homes Razed by Northern Calif...</td>\n",
       "      <td>1</td>\n",
       "      <td>latest home razed northern california wildfire...</td>\n",
       "    </tr>\n",
       "  </tbody>\n",
       "</table>\n",
       "<p>7613 rows × 6 columns</p>\n",
       "</div>"
      ],
      "text/plain": [
       "         id keyword location  \\\n",
       "0         1     NaN      NaN   \n",
       "1         4     NaN      NaN   \n",
       "2         5     NaN      NaN   \n",
       "3         6     NaN      NaN   \n",
       "4         7     NaN      NaN   \n",
       "...     ...     ...      ...   \n",
       "7608  10869     NaN      NaN   \n",
       "7609  10870     NaN      NaN   \n",
       "7610  10871     NaN      NaN   \n",
       "7611  10872     NaN      NaN   \n",
       "7612  10873     NaN      NaN   \n",
       "\n",
       "                                                   text  target  \\\n",
       "0     Our Deeds are the Reason of this #earthquake M...       1   \n",
       "1                Forest fire near La Ronge Sask. Canada       1   \n",
       "2     All residents asked to 'shelter in place' are ...       1   \n",
       "3     13,000 people receive #wildfires evacuation or...       1   \n",
       "4     Just got sent this photo from Ruby #Alaska as ...       1   \n",
       "...                                                 ...     ...   \n",
       "7608  Two giant cranes holding a bridge collapse int...       1   \n",
       "7609  @aria_ahrary @TheTawniest The out of control w...       1   \n",
       "7610  M1.94 [01:04 UTC]?5km S of Volcano Hawaii. htt...       1   \n",
       "7611  Police investigating after an e-bike collided ...       1   \n",
       "7612  The Latest: More Homes Razed by Northern Calif...       1   \n",
       "\n",
       "                                      text_preprocessed  \n",
       "0            deed reason earthquake may allah forgive u  \n",
       "1                 forest fire near la ronge sask canada  \n",
       "2     resident asked shelter place notified officer ...  \n",
       "3     people receive wildfire evacuation order calif...  \n",
       "4     got sent photo ruby alaska smoke wildfire pour...  \n",
       "...                                                 ...  \n",
       "7608  two giant crane holding bridge collapse nearby...  \n",
       "7609  ariaahrary thetawniest control wild fire calif...  \n",
       "7610                               utckm volcano hawaii  \n",
       "7611  police investigating ebike collided car little...  \n",
       "7612  latest home razed northern california wildfire...  \n",
       "\n",
       "[7613 rows x 6 columns]"
      ]
     },
     "execution_count": 66,
     "metadata": {},
     "output_type": "execute_result"
    },
    {
     "name": "stdout",
     "output_type": "stream",
     "text": [
      "\n",
      "\n",
      "--- 77.34818863868713 seconds ---\n"
     ]
    }
   ],
   "source": [
    "# Preprocess quora question 1\n",
    "\n",
    "# start time to measure the time of the program execution\n",
    "start_time = time.time()\n",
    "\n",
    "train_df['text_preprocessed'] = train_df['text'].apply(preprocess_all)\n",
    "\n",
    "# check\n",
    "train_df.info()\n",
    "train_df\n",
    "\n",
    "# print the overall program runtime.\n",
    "print(f\"\\n\\n--- {(time.time() - start_time)} seconds ---\")"
   ]
  },
  {
   "cell_type": "code",
   "execution_count": 75,
   "id": "0943f936-de70-4449-881c-814526483d10",
   "metadata": {},
   "outputs": [
    {
     "data": {
      "text/html": [
       "<div>\n",
       "<style scoped>\n",
       "    .dataframe tbody tr th:only-of-type {\n",
       "        vertical-align: middle;\n",
       "    }\n",
       "\n",
       "    .dataframe tbody tr th {\n",
       "        vertical-align: top;\n",
       "    }\n",
       "\n",
       "    .dataframe thead th {\n",
       "        text-align: right;\n",
       "    }\n",
       "</style>\n",
       "<table border=\"1\" class=\"dataframe\">\n",
       "  <thead>\n",
       "    <tr style=\"text-align: right;\">\n",
       "      <th></th>\n",
       "      <th>id</th>\n",
       "      <th>keyword</th>\n",
       "      <th>location</th>\n",
       "      <th>text</th>\n",
       "      <th>target</th>\n",
       "      <th>text_preprocessed</th>\n",
       "    </tr>\n",
       "  </thead>\n",
       "  <tbody>\n",
       "    <tr>\n",
       "      <th>30</th>\n",
       "      <td>44</td>\n",
       "      <td>NaN</td>\n",
       "      <td>NaN</td>\n",
       "      <td>The end!</td>\n",
       "      <td>0</td>\n",
       "      <td>end</td>\n",
       "    </tr>\n",
       "    <tr>\n",
       "      <th>70</th>\n",
       "      <td>100</td>\n",
       "      <td>accident</td>\n",
       "      <td>UK</td>\n",
       "      <td>http://t.co/GKYe6gjTk5 Had a #personalinjury a...</td>\n",
       "      <td>0</td>\n",
       "      <td></td>\n",
       "    </tr>\n",
       "    <tr>\n",
       "      <th>172</th>\n",
       "      <td>247</td>\n",
       "      <td>ambulance</td>\n",
       "      <td>Jackson</td>\n",
       "      <td>http://t.co/AY6zzcUpnz Twelve feared killed in...</td>\n",
       "      <td>1</td>\n",
       "      <td></td>\n",
       "    </tr>\n",
       "    <tr>\n",
       "      <th>183</th>\n",
       "      <td>262</td>\n",
       "      <td>ambulance</td>\n",
       "      <td>Amsterdam</td>\n",
       "      <td>http://t.co/7xGLah10zL Twelve feared killed in...</td>\n",
       "      <td>1</td>\n",
       "      <td></td>\n",
       "    </tr>\n",
       "    <tr>\n",
       "      <th>190</th>\n",
       "      <td>269</td>\n",
       "      <td>ambulance</td>\n",
       "      <td>NaN</td>\n",
       "      <td>http://t.co/FCqmKFfflW Twelve feared killed in...</td>\n",
       "      <td>1</td>\n",
       "      <td></td>\n",
       "    </tr>\n",
       "    <tr>\n",
       "      <th>197</th>\n",
       "      <td>277</td>\n",
       "      <td>ambulance</td>\n",
       "      <td>L. A.</td>\n",
       "      <td>http://t.co/pWwpUm6RBj Twelve feared killed in...</td>\n",
       "      <td>1</td>\n",
       "      <td></td>\n",
       "    </tr>\n",
       "    <tr>\n",
       "      <th>201</th>\n",
       "      <td>283</td>\n",
       "      <td>ambulance</td>\n",
       "      <td>Lexington</td>\n",
       "      <td>http://t.co/FueRk0gWui Twelve feared killed in...</td>\n",
       "      <td>1</td>\n",
       "      <td></td>\n",
       "    </tr>\n",
       "    <tr>\n",
       "      <th>202</th>\n",
       "      <td>285</td>\n",
       "      <td>ambulance</td>\n",
       "      <td>NaN</td>\n",
       "      <td>http://t.co/X5YEUYLT1X Twelve feared killed in...</td>\n",
       "      <td>1</td>\n",
       "      <td></td>\n",
       "    </tr>\n",
       "    <tr>\n",
       "      <th>207</th>\n",
       "      <td>293</td>\n",
       "      <td>ambulance</td>\n",
       "      <td>Playa</td>\n",
       "      <td>http://t.co/J8TYT1XRRK Twelve feared killed in...</td>\n",
       "      <td>1</td>\n",
       "      <td></td>\n",
       "    </tr>\n",
       "    <tr>\n",
       "      <th>448</th>\n",
       "      <td>651</td>\n",
       "      <td>attack</td>\n",
       "      <td>NaN</td>\n",
       "      <td>http://t.co/pTKrXtZjtV  Nashville Theater Atta...</td>\n",
       "      <td>1</td>\n",
       "      <td></td>\n",
       "    </tr>\n",
       "    <tr>\n",
       "      <th>677</th>\n",
       "      <td>978</td>\n",
       "      <td>blaze</td>\n",
       "      <td>My contac 27B80F7E 08170156520</td>\n",
       "      <td>https://t.co/WKv8VqVkT6 #ArtisteOfTheWeekFact ...</td>\n",
       "      <td>0</td>\n",
       "      <td></td>\n",
       "    </tr>\n",
       "    <tr>\n",
       "      <th>795</th>\n",
       "      <td>1153</td>\n",
       "      <td>blight</td>\n",
       "      <td>NaN</td>\n",
       "      <td>http://t.co/ETkd58Un8n - Cleveland Heights Sha...</td>\n",
       "      <td>0</td>\n",
       "      <td></td>\n",
       "    </tr>\n",
       "    <tr>\n",
       "      <th>993</th>\n",
       "      <td>1443</td>\n",
       "      <td>body%20bagging</td>\n",
       "      <td>Texas</td>\n",
       "      <td>G+: +https://t.co/dODXi41Y1CåÊis Body Bagging ...</td>\n",
       "      <td>0</td>\n",
       "      <td>g</td>\n",
       "    </tr>\n",
       "    <tr>\n",
       "      <th>1116</th>\n",
       "      <td>1610</td>\n",
       "      <td>bombed</td>\n",
       "      <td>Nairobi, Kenya</td>\n",
       "      <td>http://t.co/wMNOnHxEIr 'Nagasaki has to be for...</td>\n",
       "      <td>1</td>\n",
       "      <td></td>\n",
       "    </tr>\n",
       "    <tr>\n",
       "      <th>1252</th>\n",
       "      <td>1808</td>\n",
       "      <td>buildings%20on%20fire</td>\n",
       "      <td>Concord, NH</td>\n",
       "      <td>Now on http://t.co/3sTH9lrBUn: PHOTOS: Flames ...</td>\n",
       "      <td>1</td>\n",
       "      <td></td>\n",
       "    </tr>\n",
       "    <tr>\n",
       "      <th>1671</th>\n",
       "      <td>2414</td>\n",
       "      <td>collide</td>\n",
       "      <td>NaN</td>\n",
       "      <td>http://t.co/QQC0gKbEGs efs300: http://t.co/ZSt...</td>\n",
       "      <td>0</td>\n",
       "      <td></td>\n",
       "    </tr>\n",
       "    <tr>\n",
       "      <th>1813</th>\n",
       "      <td>2605</td>\n",
       "      <td>crashed</td>\n",
       "      <td>Cuernavaca, Morelos, MÌ©xico.</td>\n",
       "      <td>http://t.co/iGXRqPoTm7 Bin Laden family plane ...</td>\n",
       "      <td>1</td>\n",
       "      <td></td>\n",
       "    </tr>\n",
       "    <tr>\n",
       "      <th>1887</th>\n",
       "      <td>2711</td>\n",
       "      <td>crushed</td>\n",
       "      <td>NaN</td>\n",
       "      <td>http://t.co/kG5pLkeDhr WRAPUP 2-U.S. cable TV ...</td>\n",
       "      <td>0</td>\n",
       "      <td></td>\n",
       "    </tr>\n",
       "    <tr>\n",
       "      <th>2104</th>\n",
       "      <td>3022</td>\n",
       "      <td>death</td>\n",
       "      <td>Kensington, MD</td>\n",
       "      <td>http://t.co/lMA39ZRWoY There is a way which se...</td>\n",
       "      <td>1</td>\n",
       "      <td></td>\n",
       "    </tr>\n",
       "    <tr>\n",
       "      <th>2344</th>\n",
       "      <td>3372</td>\n",
       "      <td>demolition</td>\n",
       "      <td>??????</td>\n",
       "      <td>http://t.co/D3cTNI8Qit #Demolition company: de...</td>\n",
       "      <td>0</td>\n",
       "      <td></td>\n",
       "    </tr>\n",
       "    <tr>\n",
       "      <th>2467</th>\n",
       "      <td>3535</td>\n",
       "      <td>derailment</td>\n",
       "      <td>NaN</td>\n",
       "      <td>http://t.co/BAGEF9lFGT 25 killed 50 injured in...</td>\n",
       "      <td>1</td>\n",
       "      <td></td>\n",
       "    </tr>\n",
       "    <tr>\n",
       "      <th>2769</th>\n",
       "      <td>3980</td>\n",
       "      <td>devastation</td>\n",
       "      <td>Atlanta g.a.</td>\n",
       "      <td>http://t.co/Gxgm1T3W0J From Devastation to Ela...</td>\n",
       "      <td>0</td>\n",
       "      <td></td>\n",
       "    </tr>\n",
       "    <tr>\n",
       "      <th>2857</th>\n",
       "      <td>4105</td>\n",
       "      <td>drought</td>\n",
       "      <td>NaN</td>\n",
       "      <td>http://t.co/vYmnRnSThG: U.S. in record hurrica...</td>\n",
       "      <td>1</td>\n",
       "      <td></td>\n",
       "    </tr>\n",
       "    <tr>\n",
       "      <th>2925</th>\n",
       "      <td>4204</td>\n",
       "      <td>drowned</td>\n",
       "      <td>Alberta, VA</td>\n",
       "      <td>http://t.co/MoA0q0AuFa Jacksonville family ban...</td>\n",
       "      <td>0</td>\n",
       "      <td></td>\n",
       "    </tr>\n",
       "    <tr>\n",
       "      <th>2934</th>\n",
       "      <td>4216</td>\n",
       "      <td>drowned</td>\n",
       "      <td>Colorado Springs</td>\n",
       "      <td>http://t.co/riWuP1RbHu Jacksonville family ban...</td>\n",
       "      <td>0</td>\n",
       "      <td></td>\n",
       "    </tr>\n",
       "    <tr>\n",
       "      <th>2975</th>\n",
       "      <td>4272</td>\n",
       "      <td>drowning</td>\n",
       "      <td>Hughes, AR</td>\n",
       "      <td>http://t.co/9y0pAJ8sxd Family mourns drowning ...</td>\n",
       "      <td>1</td>\n",
       "      <td></td>\n",
       "    </tr>\n",
       "    <tr>\n",
       "      <th>3174</th>\n",
       "      <td>4556</td>\n",
       "      <td>emergency%20plan</td>\n",
       "      <td>Reddit</td>\n",
       "      <td>http://t.co/F7LJwxJ5jp #GamerGate The end of R...</td>\n",
       "      <td>0</td>\n",
       "      <td></td>\n",
       "    </tr>\n",
       "    <tr>\n",
       "      <th>3565</th>\n",
       "      <td>5096</td>\n",
       "      <td>famine</td>\n",
       "      <td>San Francisco</td>\n",
       "      <td>http://t.co/x1x6d5Enef Russian 'food crematori...</td>\n",
       "      <td>1</td>\n",
       "      <td></td>\n",
       "    </tr>\n",
       "    <tr>\n",
       "      <th>3630</th>\n",
       "      <td>5179</td>\n",
       "      <td>fatalities</td>\n",
       "      <td>United States where it's warm</td>\n",
       "      <td>http://t.co/JwIv6WYW6F Osage Beach releases name</td>\n",
       "      <td>0</td>\n",
       "      <td></td>\n",
       "    </tr>\n",
       "    <tr>\n",
       "      <th>3744</th>\n",
       "      <td>5321</td>\n",
       "      <td>fire</td>\n",
       "      <td>Wrex</td>\n",
       "      <td>http://t.co/iNkuv5DNTX #auction #shoes Retro 5...</td>\n",
       "      <td>0</td>\n",
       "      <td></td>\n",
       "    </tr>\n",
       "    <tr>\n",
       "      <th>3964</th>\n",
       "      <td>5633</td>\n",
       "      <td>flooding</td>\n",
       "      <td>NaN</td>\n",
       "      <td>http://t.co/XJkRXrNWNv Flooding of tracks caus...</td>\n",
       "      <td>1</td>\n",
       "      <td></td>\n",
       "    </tr>\n",
       "    <tr>\n",
       "      <th>4122</th>\n",
       "      <td>5858</td>\n",
       "      <td>hailstorm</td>\n",
       "      <td>NaN</td>\n",
       "      <td>IG: http://t.co/2WBiVKzJIP 'It's hailing again...</td>\n",
       "      <td>1</td>\n",
       "      <td>ig</td>\n",
       "    </tr>\n",
       "    <tr>\n",
       "      <th>4218</th>\n",
       "      <td>5991</td>\n",
       "      <td>hazardous</td>\n",
       "      <td>NaN</td>\n",
       "      <td>http://t.co/7AzE4IoGMe Risk Assessment and Opt...</td>\n",
       "      <td>0</td>\n",
       "      <td></td>\n",
       "    </tr>\n",
       "    <tr>\n",
       "      <th>4240</th>\n",
       "      <td>6024</td>\n",
       "      <td>hazardous</td>\n",
       "      <td>NaN</td>\n",
       "      <td>http://t.co/rOdpt33XFM EverSafe Emergency Auto...</td>\n",
       "      <td>1</td>\n",
       "      <td></td>\n",
       "    </tr>\n",
       "    <tr>\n",
       "      <th>4827</th>\n",
       "      <td>6874</td>\n",
       "      <td>mass%20murder</td>\n",
       "      <td>Anonymous</td>\n",
       "      <td>http://t.co/c1H7JECFrV @RoyalCarribean do your...</td>\n",
       "      <td>1</td>\n",
       "      <td></td>\n",
       "    </tr>\n",
       "    <tr>\n",
       "      <th>4832</th>\n",
       "      <td>6879</td>\n",
       "      <td>mass%20murder</td>\n",
       "      <td>Anonymous</td>\n",
       "      <td>http://t.co/FhI4qBpwFH @FredOlsenCruise Please...</td>\n",
       "      <td>0</td>\n",
       "      <td></td>\n",
       "    </tr>\n",
       "    <tr>\n",
       "      <th>4834</th>\n",
       "      <td>6881</td>\n",
       "      <td>mass%20murder</td>\n",
       "      <td>Anonymous</td>\n",
       "      <td>http://t.co/c1H7JECFrV @RoyalCarribean do your...</td>\n",
       "      <td>1</td>\n",
       "      <td></td>\n",
       "    </tr>\n",
       "    <tr>\n",
       "      <th>4965</th>\n",
       "      <td>7076</td>\n",
       "      <td>meltdown</td>\n",
       "      <td>NaN</td>\n",
       "      <td>http://t.co/HFqlwo1kMy E-Mini SP 500: Earnings...</td>\n",
       "      <td>0</td>\n",
       "      <td></td>\n",
       "    </tr>\n",
       "    <tr>\n",
       "      <th>5115</th>\n",
       "      <td>7295</td>\n",
       "      <td>nuclear%20reactor</td>\n",
       "      <td>NaN</td>\n",
       "      <td>Err:509</td>\n",
       "      <td>0</td>\n",
       "      <td>err</td>\n",
       "    </tr>\n",
       "    <tr>\n",
       "      <th>5356</th>\n",
       "      <td>7644</td>\n",
       "      <td>pandemonium</td>\n",
       "      <td>NaN</td>\n",
       "      <td>http://t.co/PmHMmkSPaQ -PANDEMONIUM! Playstati...</td>\n",
       "      <td>0</td>\n",
       "      <td></td>\n",
       "    </tr>\n",
       "    <tr>\n",
       "      <th>5535</th>\n",
       "      <td>7895</td>\n",
       "      <td>radiation%20emergency</td>\n",
       "      <td>LP, MN USA</td>\n",
       "      <td>http://t.co/X5XUMtoEkE Nuclear Emergency Curre...</td>\n",
       "      <td>0</td>\n",
       "      <td></td>\n",
       "    </tr>\n",
       "    <tr>\n",
       "      <th>5585</th>\n",
       "      <td>7970</td>\n",
       "      <td>razed</td>\n",
       "      <td>NaN</td>\n",
       "      <td>http://t.co/iXiYBAp8Qa The Latest: More homes ...</td>\n",
       "      <td>1</td>\n",
       "      <td></td>\n",
       "    </tr>\n",
       "    <tr>\n",
       "      <th>5643</th>\n",
       "      <td>8047</td>\n",
       "      <td>refugees</td>\n",
       "      <td>Auckland, New Zealand</td>\n",
       "      <td>http://t.co/eHKLp12yiP Paci?c Media Centre | a...</td>\n",
       "      <td>0</td>\n",
       "      <td></td>\n",
       "    </tr>\n",
       "    <tr>\n",
       "      <th>5692</th>\n",
       "      <td>8122</td>\n",
       "      <td>rescued</td>\n",
       "      <td>NIGERIA</td>\n",
       "      <td>http://t.co/QGyN2u1UP3 Rescued Med migrants ar...</td>\n",
       "      <td>1</td>\n",
       "      <td></td>\n",
       "    </tr>\n",
       "    <tr>\n",
       "      <th>5726</th>\n",
       "      <td>8171</td>\n",
       "      <td>rescuers</td>\n",
       "      <td>NaN</td>\n",
       "      <td>http://t.co/XlFi7ovhFJ VIDEO: 'We're picking u...</td>\n",
       "      <td>1</td>\n",
       "      <td></td>\n",
       "    </tr>\n",
       "    <tr>\n",
       "      <th>5746</th>\n",
       "      <td>8204</td>\n",
       "      <td>riot</td>\n",
       "      <td>Bossland</td>\n",
       "      <td>http://t.co/cxB55H37jn Rascal Flatts Riot Tour...</td>\n",
       "      <td>0</td>\n",
       "      <td></td>\n",
       "    </tr>\n",
       "    <tr>\n",
       "      <th>5785</th>\n",
       "      <td>8254</td>\n",
       "      <td>rioting</td>\n",
       "      <td>Vista, CA</td>\n",
       "      <td>http://t.co/wspuXOrEWb  Cindy Noonan@CindyNoon...</td>\n",
       "      <td>1</td>\n",
       "      <td></td>\n",
       "    </tr>\n",
       "    <tr>\n",
       "      <th>5807</th>\n",
       "      <td>8288</td>\n",
       "      <td>rioting</td>\n",
       "      <td>Alabama</td>\n",
       "      <td>http://t.co/jMzcaqyDfa  Cindy Noonan@CindyNoon...</td>\n",
       "      <td>0</td>\n",
       "      <td></td>\n",
       "    </tr>\n",
       "    <tr>\n",
       "      <th>6137</th>\n",
       "      <td>8755</td>\n",
       "      <td>siren</td>\n",
       "      <td>The Web</td>\n",
       "      <td>http://t.co/a0v1ybySOD Its the best time of da...</td>\n",
       "      <td>0</td>\n",
       "      <td></td>\n",
       "    </tr>\n",
       "    <tr>\n",
       "      <th>6415</th>\n",
       "      <td>9173</td>\n",
       "      <td>suicide%20bomber</td>\n",
       "      <td>NaN</td>\n",
       "      <td>http://t.co/9k1tqsAarM Suicide bomber kills 15...</td>\n",
       "      <td>1</td>\n",
       "      <td></td>\n",
       "    </tr>\n",
       "    <tr>\n",
       "      <th>6622</th>\n",
       "      <td>9485</td>\n",
       "      <td>terrorism</td>\n",
       "      <td>NaN</td>\n",
       "      <td>http://t.co/EQjCpWILVn: Articles In Saudi Pres...</td>\n",
       "      <td>0</td>\n",
       "      <td></td>\n",
       "    </tr>\n",
       "    <tr>\n",
       "      <th>7134</th>\n",
       "      <td>10218</td>\n",
       "      <td>volcano</td>\n",
       "      <td>NaN</td>\n",
       "      <td>http://t.co/Ns1AgGFNxz #shoes Asics GT-II Supe...</td>\n",
       "      <td>0</td>\n",
       "      <td></td>\n",
       "    </tr>\n",
       "    <tr>\n",
       "      <th>7141</th>\n",
       "      <td>10231</td>\n",
       "      <td>volcano</td>\n",
       "      <td>California, USA</td>\n",
       "      <td>http://t.co/3nUiH6pkUi #shoes Asics GT-II Supe...</td>\n",
       "      <td>0</td>\n",
       "      <td></td>\n",
       "    </tr>\n",
       "    <tr>\n",
       "      <th>7555</th>\n",
       "      <td>10800</td>\n",
       "      <td>wrecked</td>\n",
       "      <td>Milwaukee County</td>\n",
       "      <td>http://t.co/DeQQOpSP4f: Iger's 3 words that wr...</td>\n",
       "      <td>0</td>\n",
       "      <td></td>\n",
       "    </tr>\n",
       "    <tr>\n",
       "      <th>7566</th>\n",
       "      <td>10815</td>\n",
       "      <td>wrecked</td>\n",
       "      <td>United States</td>\n",
       "      <td>http://t.co/qVx0VQTPz0 Cramer: Iger's 3 words ...</td>\n",
       "      <td>0</td>\n",
       "      <td></td>\n",
       "    </tr>\n",
       "  </tbody>\n",
       "</table>\n",
       "</div>"
      ],
      "text/plain": [
       "         id                keyword                        location  \\\n",
       "30       44                    NaN                             NaN   \n",
       "70      100               accident                              UK   \n",
       "172     247              ambulance                         Jackson   \n",
       "183     262              ambulance                       Amsterdam   \n",
       "190     269              ambulance                             NaN   \n",
       "197     277              ambulance                           L. A.   \n",
       "201     283              ambulance                       Lexington   \n",
       "202     285              ambulance                             NaN   \n",
       "207     293              ambulance                           Playa   \n",
       "448     651                 attack                             NaN   \n",
       "677     978                  blaze  My contac 27B80F7E 08170156520   \n",
       "795    1153                 blight                             NaN   \n",
       "993    1443         body%20bagging                           Texas   \n",
       "1116   1610                 bombed                 Nairobi, Kenya    \n",
       "1252   1808  buildings%20on%20fire                    Concord, NH    \n",
       "1671   2414                collide                             NaN   \n",
       "1813   2605                crashed   Cuernavaca, Morelos, MÌ©xico.   \n",
       "1887   2711                crushed                             NaN   \n",
       "2104   3022                  death                  Kensington, MD   \n",
       "2344   3372             demolition                          ??????   \n",
       "2467   3535             derailment                             NaN   \n",
       "2769   3980            devastation                    Atlanta g.a.   \n",
       "2857   4105                drought                             NaN   \n",
       "2925   4204                drowned                     Alberta, VA   \n",
       "2934   4216                drowned                Colorado Springs   \n",
       "2975   4272               drowning                      Hughes, AR   \n",
       "3174   4556       emergency%20plan                          Reddit   \n",
       "3565   5096                 famine                   San Francisco   \n",
       "3630   5179             fatalities   United States where it's warm   \n",
       "3744   5321                   fire                            Wrex   \n",
       "3964   5633               flooding                             NaN   \n",
       "4122   5858              hailstorm                             NaN   \n",
       "4218   5991              hazardous                             NaN   \n",
       "4240   6024              hazardous                             NaN   \n",
       "4827   6874          mass%20murder                       Anonymous   \n",
       "4832   6879          mass%20murder                       Anonymous   \n",
       "4834   6881          mass%20murder                       Anonymous   \n",
       "4965   7076               meltdown                             NaN   \n",
       "5115   7295      nuclear%20reactor                             NaN   \n",
       "5356   7644            pandemonium                             NaN   \n",
       "5535   7895  radiation%20emergency                      LP, MN USA   \n",
       "5585   7970                  razed                             NaN   \n",
       "5643   8047               refugees           Auckland, New Zealand   \n",
       "5692   8122                rescued                         NIGERIA   \n",
       "5726   8171               rescuers                             NaN   \n",
       "5746   8204                   riot                        Bossland   \n",
       "5785   8254                rioting                       Vista, CA   \n",
       "5807   8288                rioting                         Alabama   \n",
       "6137   8755                  siren                         The Web   \n",
       "6415   9173       suicide%20bomber                             NaN   \n",
       "6622   9485              terrorism                             NaN   \n",
       "7134  10218                volcano                             NaN   \n",
       "7141  10231                volcano                 California, USA   \n",
       "7555  10800                wrecked                Milwaukee County   \n",
       "7566  10815                wrecked                   United States   \n",
       "\n",
       "                                                   text  target  \\\n",
       "30                                             The end!       0   \n",
       "70    http://t.co/GKYe6gjTk5 Had a #personalinjury a...       0   \n",
       "172   http://t.co/AY6zzcUpnz Twelve feared killed in...       1   \n",
       "183   http://t.co/7xGLah10zL Twelve feared killed in...       1   \n",
       "190   http://t.co/FCqmKFfflW Twelve feared killed in...       1   \n",
       "197   http://t.co/pWwpUm6RBj Twelve feared killed in...       1   \n",
       "201   http://t.co/FueRk0gWui Twelve feared killed in...       1   \n",
       "202   http://t.co/X5YEUYLT1X Twelve feared killed in...       1   \n",
       "207   http://t.co/J8TYT1XRRK Twelve feared killed in...       1   \n",
       "448   http://t.co/pTKrXtZjtV  Nashville Theater Atta...       1   \n",
       "677   https://t.co/WKv8VqVkT6 #ArtisteOfTheWeekFact ...       0   \n",
       "795   http://t.co/ETkd58Un8n - Cleveland Heights Sha...       0   \n",
       "993   G+: +https://t.co/dODXi41Y1CåÊis Body Bagging ...       0   \n",
       "1116  http://t.co/wMNOnHxEIr 'Nagasaki has to be for...       1   \n",
       "1252  Now on http://t.co/3sTH9lrBUn: PHOTOS: Flames ...       1   \n",
       "1671  http://t.co/QQC0gKbEGs efs300: http://t.co/ZSt...       0   \n",
       "1813  http://t.co/iGXRqPoTm7 Bin Laden family plane ...       1   \n",
       "1887  http://t.co/kG5pLkeDhr WRAPUP 2-U.S. cable TV ...       0   \n",
       "2104  http://t.co/lMA39ZRWoY There is a way which se...       1   \n",
       "2344  http://t.co/D3cTNI8Qit #Demolition company: de...       0   \n",
       "2467  http://t.co/BAGEF9lFGT 25 killed 50 injured in...       1   \n",
       "2769  http://t.co/Gxgm1T3W0J From Devastation to Ela...       0   \n",
       "2857  http://t.co/vYmnRnSThG: U.S. in record hurrica...       1   \n",
       "2925  http://t.co/MoA0q0AuFa Jacksonville family ban...       0   \n",
       "2934  http://t.co/riWuP1RbHu Jacksonville family ban...       0   \n",
       "2975  http://t.co/9y0pAJ8sxd Family mourns drowning ...       1   \n",
       "3174  http://t.co/F7LJwxJ5jp #GamerGate The end of R...       0   \n",
       "3565  http://t.co/x1x6d5Enef Russian 'food crematori...       1   \n",
       "3630   http://t.co/JwIv6WYW6F Osage Beach releases name       0   \n",
       "3744  http://t.co/iNkuv5DNTX #auction #shoes Retro 5...       0   \n",
       "3964  http://t.co/XJkRXrNWNv Flooding of tracks caus...       1   \n",
       "4122  IG: http://t.co/2WBiVKzJIP 'It's hailing again...       1   \n",
       "4218  http://t.co/7AzE4IoGMe Risk Assessment and Opt...       0   \n",
       "4240  http://t.co/rOdpt33XFM EverSafe Emergency Auto...       1   \n",
       "4827  http://t.co/c1H7JECFrV @RoyalCarribean do your...       1   \n",
       "4832  http://t.co/FhI4qBpwFH @FredOlsenCruise Please...       0   \n",
       "4834  http://t.co/c1H7JECFrV @RoyalCarribean do your...       1   \n",
       "4965  http://t.co/HFqlwo1kMy E-Mini SP 500: Earnings...       0   \n",
       "5115                                            Err:509       0   \n",
       "5356  http://t.co/PmHMmkSPaQ -PANDEMONIUM! Playstati...       0   \n",
       "5535  http://t.co/X5XUMtoEkE Nuclear Emergency Curre...       0   \n",
       "5585  http://t.co/iXiYBAp8Qa The Latest: More homes ...       1   \n",
       "5643  http://t.co/eHKLp12yiP Paci?c Media Centre | a...       0   \n",
       "5692  http://t.co/QGyN2u1UP3 Rescued Med migrants ar...       1   \n",
       "5726  http://t.co/XlFi7ovhFJ VIDEO: 'We're picking u...       1   \n",
       "5746  http://t.co/cxB55H37jn Rascal Flatts Riot Tour...       0   \n",
       "5785  http://t.co/wspuXOrEWb  Cindy Noonan@CindyNoon...       1   \n",
       "5807  http://t.co/jMzcaqyDfa  Cindy Noonan@CindyNoon...       0   \n",
       "6137  http://t.co/a0v1ybySOD Its the best time of da...       0   \n",
       "6415  http://t.co/9k1tqsAarM Suicide bomber kills 15...       1   \n",
       "6622  http://t.co/EQjCpWILVn: Articles In Saudi Pres...       0   \n",
       "7134  http://t.co/Ns1AgGFNxz #shoes Asics GT-II Supe...       0   \n",
       "7141  http://t.co/3nUiH6pkUi #shoes Asics GT-II Supe...       0   \n",
       "7555  http://t.co/DeQQOpSP4f: Iger's 3 words that wr...       0   \n",
       "7566  http://t.co/qVx0VQTPz0 Cramer: Iger's 3 words ...       0   \n",
       "\n",
       "     text_preprocessed  \n",
       "30                 end  \n",
       "70                      \n",
       "172                     \n",
       "183                     \n",
       "190                     \n",
       "197                     \n",
       "201                     \n",
       "202                     \n",
       "207                     \n",
       "448                     \n",
       "677                     \n",
       "795                     \n",
       "993                  g  \n",
       "1116                    \n",
       "1252                    \n",
       "1671                    \n",
       "1813                    \n",
       "1887                    \n",
       "2104                    \n",
       "2344                    \n",
       "2467                    \n",
       "2769                    \n",
       "2857                    \n",
       "2925                    \n",
       "2934                    \n",
       "2975                    \n",
       "3174                    \n",
       "3565                    \n",
       "3630                    \n",
       "3744                    \n",
       "3964                    \n",
       "4122                ig  \n",
       "4218                    \n",
       "4240                    \n",
       "4827                    \n",
       "4832                    \n",
       "4834                    \n",
       "4965                    \n",
       "5115               err  \n",
       "5356                    \n",
       "5535                    \n",
       "5585                    \n",
       "5643                    \n",
       "5692                    \n",
       "5726                    \n",
       "5746                    \n",
       "5785                    \n",
       "5807                    \n",
       "6137                    \n",
       "6415                    \n",
       "6622                    \n",
       "7134                    \n",
       "7141                    \n",
       "7555                    \n",
       "7566                    "
      ]
     },
     "execution_count": 75,
     "metadata": {},
     "output_type": "execute_result"
    },
    {
     "data": {
      "text/plain": [
       "'http://t.co/GKYe6gjTk5 Had a #personalinjury accident this summer? Read our advice &amp; see how a #solicitor can help #OtleyHour'"
      ]
     },
     "execution_count": 75,
     "metadata": {},
     "output_type": "execute_result"
    }
   ],
   "source": [
    "train_df[train_df['text_preprocessed'].str.len() < 4]\n",
    "train_df['text'][70]"
   ]
  },
  {
   "cell_type": "code",
   "execution_count": null,
   "id": "69d82184-868d-42f8-b4b7-d7467a30a976",
   "metadata": {},
   "outputs": [],
   "source": []
  },
  {
   "cell_type": "code",
   "execution_count": null,
   "id": "edd58f92-673f-413c-8179-e9f66c208c16",
   "metadata": {},
   "outputs": [],
   "source": []
  },
  {
   "cell_type": "markdown",
   "id": "00eb5c53-f91e-4a77-86de-175da587d79b",
   "metadata": {},
   "source": [
    "#### __Analyze Text Statistics__\n",
    "> - Reference Links: \n",
    "    * https://neptune.ai/blog/exploratory-data-analysis-natural-language-processing-tools\n",
    "    * https://stackoverflow.com/questions/29216889/slicing-a-dictionary\n",
    "    * https://stackoverflow.com/questions/613183/how-do-i-sort-a-dictionary-by-value\n",
    "    * https://www.w3resource.com/python-exercises/dictionary/python-data-type-dictionary-exercise-1.php\n",
    "    * https://stackoverflow.com/questions/31594549/how-to-change-the-figure-size-of-a-seaborn-axes-or-figure-level-plot\n",
    "    * https://stackoverflow.com/questions/43214978/seaborn-barplot-displaying-values\n",
    "    * https://www.analyticsvidhya.com/blog/2021/11/pattern-library-for-natural-language-processing-in-python/\n",
    "    * https://stackoverflow.com/questions/56611698/pandas-how-to-read-csv-file-from-google-drive-public"
   ]
  },
  {
   "cell_type": "code",
   "execution_count": 10,
   "id": "d34a9048-0aa8-47dd-9f84-234292303625",
   "metadata": {},
   "outputs": [
    {
     "data": {
      "text/plain": [
       "<AxesSubplot:>"
      ]
     },
     "execution_count": 10,
     "metadata": {},
     "output_type": "execute_result"
    },
    {
     "data": {
      "image/png": "[encoded data removed]",
      "text/plain": [
       "<Figure size 432x288 with 1 Axes>"
      ]
     },
     "metadata": {
      "needs_background": "light"
     },
     "output_type": "display_data"
    }
   ],
   "source": [
    "# the number of characters present in each sentence\n",
    "# rough idea about the text length\n",
    "train_df['text'].str.len().hist()"
   ]
  },
  {
   "cell_type": "markdown",
   "id": "93b34eeb-504f-4612-876f-c66bde3b7673",
   "metadata": {},
   "source": [
    "twitter text ranges between 10 and 155 characters, heavy concentraion around 130-140 characters."
   ]
  },
  {
   "cell_type": "code",
   "execution_count": 11,
   "id": "b0620c34-6b25-4eda-bbb2-6e5ec804f67f",
   "metadata": {},
   "outputs": [
    {
     "data": {
      "text/plain": [
       "<AxesSubplot:>"
      ]
     },
     "execution_count": 11,
     "metadata": {},
     "output_type": "execute_result"
    },
    {
     "data": {
      "image/png": "[encoded data removed]",
      "text/plain": [
       "<Figure size 432x288 with 1 Axes>"
      ]
     },
     "metadata": {
      "needs_background": "light"
     },
     "output_type": "display_data"
    }
   ],
   "source": [
    "# plot the number of words appearing in each tweet.\n",
    "train_df['text'].str.split().\\\n",
    "    map(lambda x: len(x)).\\\n",
    "    hist()"
   ]
  },
  {
   "cell_type": "markdown",
   "id": "27ae01e6-b741-4c73-99d7-2ac89a839c59",
   "metadata": {},
   "source": [
    "twitter text ranges between 2 and 32 words, heavy concentraion around 12-18 words."
   ]
  },
  {
   "cell_type": "code",
   "execution_count": 12,
   "id": "7c82b68c-32f0-493d-a0d0-89dc891078d1",
   "metadata": {},
   "outputs": [
    {
     "data": {
      "text/plain": [
       "<AxesSubplot:>"
      ]
     },
     "execution_count": 12,
     "metadata": {},
     "output_type": "execute_result"
    },
    {
     "data": {
      "image/png": "[encoded data removed]",
      "text/plain": [
       "<Figure size 432x288 with 1 Axes>"
      ]
     },
     "metadata": {
      "needs_background": "light"
     },
     "output_type": "display_data"
    }
   ],
   "source": [
    "# check the average word length in each sentence.\n",
    "train_df['text'].str.split().\\\n",
    "   apply(lambda x : [len(i) for i in x]). \\\n",
    "   map(lambda x: np.mean(x)).hist()"
   ]
  },
  {
   "cell_type": "markdown",
   "id": "c4b70cde-d135-44ea-9bf9-a927a6335e45",
   "metadata": {},
   "source": [
    "the average words of twitter text ranges between 2.5 and 17.5 words, heavy concentraion around 4-8 words."
   ]
  },
  {
   "cell_type": "code",
   "execution_count": 19,
   "id": "6f8d7ab8-1687-4bb7-a392-efaf2472b4dd",
   "metadata": {},
   "outputs": [
    {
     "name": "stderr",
     "output_type": "stream",
     "text": [
      "[nltk_data] Downloading package stopwords to\n",
      "[nltk_data]     C:\\Users\\User\\AppData\\Roaming\\nltk_data...\n",
      "[nltk_data]   Package stopwords is already up-to-date!\n"
     ]
    },
    {
     "data": {
      "text/plain": [
       "True"
      ]
     },
     "execution_count": 19,
     "metadata": {},
     "output_type": "execute_result"
    },
    {
     "data": {
      "text/plain": [
       "{'the': 2575,\n",
       " 'a': 1845,\n",
       " 'to': 1805,\n",
       " 'in': 1757,\n",
       " 'of': 1722,\n",
       " 'and': 1302,\n",
       " 'is': 814,\n",
       " 'on': 773,\n",
       " 'that': 492,\n",
       " 'by': 469,\n",
       " 'from': 372,\n",
       " 'are': 345,\n",
       " 'this': 335,\n",
       " 'as': 282,\n",
       " 'so': 239,\n",
       " 'an': 204,\n",
       " 'or': 181,\n",
       " 'all': 178,\n",
       " 'into': 162,\n",
       " 'can': 141,\n",
       " 'now': 101,\n",
       " 'our': 72,\n",
       " 'being': 67,\n",
       " 'other': 31,\n",
       " 'both': 20}"
      ]
     },
     "execution_count": 19,
     "metadata": {},
     "output_type": "execute_result"
    },
    {
     "data": {
      "text/plain": [
       "<Figure size 1008x432 with 0 Axes>"
      ]
     },
     "execution_count": 19,
     "metadata": {},
     "output_type": "execute_result"
    },
    {
     "data": {
      "text/plain": [
       "<BarContainer object of 25 artists>"
      ]
     },
     "execution_count": 19,
     "metadata": {},
     "output_type": "execute_result"
    },
    {
     "data": {
      "image/png": "[encoded data removed]",
      "text/plain": [
       "<Figure size 1008x432 with 1 Axes>"
      ]
     },
     "metadata": {
      "needs_background": "light"
     },
     "output_type": "display_data"
    },
    {
     "name": "stdout",
     "output_type": "stream",
     "text": [
      "\n",
      "\n",
      "--- 33.10424828529358 seconds ---\n"
     ]
    }
   ],
   "source": [
    "# Analyzing the amount and the types of stopwords for good insights into the data\n",
    "\n",
    "# start time to measure the time of the program execution\n",
    "start_time = time.time()\n",
    "\n",
    "import nltk\n",
    "nltk.download('stopwords')\n",
    "stop=set(stopwords.words('english'))\n",
    "\n",
    "corpus=[]\n",
    "new= train_df['text'].str.split()\n",
    "new=new.values.tolist()\n",
    "corpus=[word for i in new for word in i]\n",
    "\n",
    "from collections import defaultdict\n",
    "\n",
    "dic=defaultdict(int)\n",
    "for word in corpus:\n",
    "    if word in stop:\n",
    "        dic[word]+=1\n",
    "\n",
    "# slice & sort by values dictionary before plot\n",
    "import itertools\n",
    "import operator\n",
    "\n",
    "dic_sliced = dict(itertools.islice(dic.items(), 25))\n",
    "dic_sorted = dict( sorted(dic_sliced.items(), key=operator.itemgetter(1), reverse=True))\n",
    "dic_sorted\n",
    "\n",
    "# plot bar graph\n",
    "# function to add value labels\n",
    "#def addlabels(x,y):\n",
    "#    for i in range(len(x)):\n",
    "#        plt.text(i, y[i], y[i], ha = 'center')\n",
    "        \n",
    "plt.figure(figsize=(14, 6))\n",
    "plt.bar(dic_sorted.keys(), dic_sorted.values())\n",
    "# calling the function to add value labels\n",
    "#addlabels(dic_sorted.keys(), dic_sorted.values())\n",
    "plt.show()        \n",
    "# print the overall program runtime.\n",
    "print(f\"\\n\\n--- {(time.time() - start_time)} seconds ---\")"
   ]
  },
  {
   "cell_type": "code",
   "execution_count": 67,
   "id": "c224fc4e-5657-40b1-9115-4687dfd3f6bf",
   "metadata": {},
   "outputs": [
    {
     "data": {
      "text/plain": [
       "[Text(0, 0, '763'),\n",
       " Text(0, 0, '341'),\n",
       " Text(0, 0, '295'),\n",
       " Text(0, 0, '237'),\n",
       " Text(0, 0, '227'),\n",
       " Text(0, 0, '215'),\n",
       " Text(0, 0, '214'),\n",
       " Text(0, 0, '214'),\n",
       " Text(0, 0, '209'),\n",
       " Text(0, 0, '179'),\n",
       " Text(0, 0, '174'),\n",
       " Text(0, 0, '147'),\n",
       " Text(0, 0, '145'),\n",
       " Text(0, 0, '142'),\n",
       " Text(0, 0, '141'),\n",
       " Text(0, 0, '128'),\n",
       " Text(0, 0, '127'),\n",
       " Text(0, 0, '126')]"
      ]
     },
     "execution_count": 67,
     "metadata": {},
     "output_type": "execute_result"
    },
    {
     "name": "stdout",
     "output_type": "stream",
     "text": [
      "\n",
      "\n",
      "--- 3.0937209129333496 seconds ---\n"
     ]
    },
    {
     "data": {
      "image/png": "[encoded data removed]",
      "text/plain": [
       "<Figure size 842.4x595.44 with 1 Axes>"
      ]
     },
     "metadata": {},
     "output_type": "display_data"
    }
   ],
   "source": [
    "# count the most frequent words other than stop words\n",
    "\n",
    "# start time to measure the time of the program execution\n",
    "start_time = time.time()\n",
    "\n",
    "# Converting to Lowercase\n",
    "#corpus = [char.lower() for char in corpus]\n",
    "\n",
    "import collections\n",
    "from collections import Counter\n",
    "\n",
    "corpus2=[]\n",
    "new= train_df['text_preprocessed'].str.split()\n",
    "new=new.values.tolist()\n",
    "corpus2=[word for i in new for word in i]\n",
    "\n",
    "counter=Counter(corpus)\n",
    "most=counter.most_common()\n",
    "\n",
    "x, y= [], []\n",
    "for word,count in most[:80]:\n",
    "    if (word not in stop):\n",
    "        x.append(word)\n",
    "        y.append(count)\n",
    "\n",
    "sns.set(rc={'figure.figsize':(11.7,8.27)})\n",
    "ax = sns.barplot(x=y,y=x)\n",
    "ax.bar_label(ax.containers[0])\n",
    "\n",
    "# print the overall program runtime.\n",
    "print(f\"\\n\\n--- {(time.time() - start_time)} seconds ---\")"
   ]
  },
  {
   "cell_type": "code",
   "execution_count": null,
   "id": "6340a111-51dd-4b1b-91da-5fe569e09a58",
   "metadata": {},
   "outputs": [],
   "source": []
  },
  {
   "cell_type": "code",
   "execution_count": null,
   "id": "f217bab8-1778-48bf-a0a6-69c02ab20f3a",
   "metadata": {},
   "outputs": [],
   "source": []
  },
  {
   "cell_type": "code",
   "execution_count": null,
   "id": "fb4b8ade-390c-4666-a217-955b7169651f",
   "metadata": {},
   "outputs": [],
   "source": []
  },
  {
   "cell_type": "code",
   "execution_count": null,
   "id": "4fc62ea8-c65b-4da3-9297-a1d279d8c157",
   "metadata": {},
   "outputs": [],
   "source": []
  },
  {
   "cell_type": "code",
   "execution_count": null,
   "id": "6ef8b15c-1c21-4017-abad-2a65286fcf25",
   "metadata": {},
   "outputs": [],
   "source": []
  },
  {
   "cell_type": "code",
   "execution_count": null,
   "id": "6f807583-8497-40db-ab2e-a6293545b9bb",
   "metadata": {},
   "outputs": [],
   "source": []
  },
  {
   "cell_type": "code",
   "execution_count": null,
   "id": "aef76de7-b454-4b27-9917-898990153429",
   "metadata": {},
   "outputs": [],
   "source": []
  },
  {
   "cell_type": "code",
   "execution_count": null,
   "id": "62f518bf-41ed-4c6a-bada-9d9430f6a21d",
   "metadata": {},
   "outputs": [],
   "source": []
  },
  {
   "cell_type": "code",
   "execution_count": null,
   "id": "f212f225-966d-4c1b-85db-5b394503b1d2",
   "metadata": {},
   "outputs": [],
   "source": []
  },
  {
   "cell_type": "code",
   "execution_count": null,
   "id": "ab405696-351a-4779-9bda-9e397994707a",
   "metadata": {},
   "outputs": [],
   "source": []
  },
  {
   "cell_type": "code",
   "execution_count": null,
   "id": "395214bb-5c39-4388-8ae3-3bdd5a0b4336",
   "metadata": {},
   "outputs": [],
   "source": []
  },
  {
   "cell_type": "code",
   "execution_count": null,
   "id": "88efcdf2-26b6-47b0-abb8-58008535709b",
   "metadata": {},
   "outputs": [],
   "source": []
  },
  {
   "cell_type": "code",
   "execution_count": null,
   "id": "4ab49c1b-a058-4137-8501-3ae3f6bd3f8c",
   "metadata": {},
   "outputs": [],
   "source": []
  },
  {
   "cell_type": "code",
   "execution_count": null,
   "id": "9a1848e1-9058-447b-a333-78e053af5cf6",
   "metadata": {},
   "outputs": [],
   "source": []
  },
  {
   "cell_type": "code",
   "execution_count": null,
   "id": "e5f4323d-bd16-45d0-b71b-8d3316351ca7",
   "metadata": {},
   "outputs": [],
   "source": []
  },
  {
   "cell_type": "code",
   "execution_count": null,
   "id": "11b1237b-a407-4f88-bb3f-bfb1afeb5abe",
   "metadata": {},
   "outputs": [],
   "source": []
  },
  {
   "cell_type": "code",
   "execution_count": null,
   "id": "8709c29a-3314-4e81-bcc1-136dd95bcb66",
   "metadata": {},
   "outputs": [],
   "source": []
  },
  {
   "cell_type": "code",
   "execution_count": null,
   "id": "9ea6e971-9ad1-4ef1-9ba3-2e70863758e3",
   "metadata": {},
   "outputs": [],
   "source": []
  },
  {
   "cell_type": "code",
   "execution_count": null,
   "id": "f159a764-ce95-4776-9383-8af35f8c87a0",
   "metadata": {},
   "outputs": [],
   "source": []
  },
  {
   "cell_type": "code",
   "execution_count": null,
   "id": "123ca3c8-b274-4612-8dc4-e38804309644",
   "metadata": {},
   "outputs": [],
   "source": []
  },
  {
   "cell_type": "code",
   "execution_count": null,
   "id": "75690a54-860d-41b6-beec-b30f2ccdee12",
   "metadata": {},
   "outputs": [],
   "source": []
  },
  {
   "cell_type": "code",
   "execution_count": null,
   "id": "c04baac6-2be0-4fb8-b622-e1fcae2ae027",
   "metadata": {},
   "outputs": [],
   "source": []
  },
  {
   "cell_type": "code",
   "execution_count": null,
   "id": "8ffb615b-4403-43b5-9138-cc4304e0f4fc",
   "metadata": {},
   "outputs": [],
   "source": []
  },
  {
   "cell_type": "code",
   "execution_count": null,
   "id": "11a63e42-fd1f-4e24-a5a5-19653e8600e3",
   "metadata": {},
   "outputs": [],
   "source": []
  },
  {
   "cell_type": "code",
   "execution_count": null,
   "id": "77dfd57d-d745-4b62-81f1-0523189b5037",
   "metadata": {},
   "outputs": [],
   "source": []
  },
  {
   "cell_type": "code",
   "execution_count": null,
   "id": "983ba756-7f5c-497b-8745-c0327af57973",
   "metadata": {},
   "outputs": [],
   "source": []
  },
  {
   "cell_type": "code",
   "execution_count": null,
   "id": "dc757853-1aad-4c6f-a7f8-7d603ba4e9ad",
   "metadata": {},
   "outputs": [],
   "source": []
  },
  {
   "cell_type": "code",
   "execution_count": null,
   "id": "725c7c35-3021-4222-9067-f000dc94be3b",
   "metadata": {},
   "outputs": [],
   "source": []
  },
  {
   "cell_type": "code",
   "execution_count": null,
   "id": "7fbbab83-d4c9-4081-a5a2-c0ed1e245367",
   "metadata": {},
   "outputs": [],
   "source": []
  },
  {
   "cell_type": "code",
   "execution_count": null,
   "id": "0b404eb8-c333-4530-b18b-8b46e1587f38",
   "metadata": {},
   "outputs": [],
   "source": []
  },
  {
   "cell_type": "code",
   "execution_count": null,
   "id": "fa36301e-e5b0-48cc-90cd-9685fb7a8b23",
   "metadata": {},
   "outputs": [],
   "source": []
  },
  {
   "cell_type": "code",
   "execution_count": null,
   "id": "f8f475b2-62a3-425e-8082-4cf6613175f1",
   "metadata": {},
   "outputs": [],
   "source": []
  },
  {
   "cell_type": "code",
   "execution_count": null,
   "id": "58177a40-d7ea-4262-a566-9996fd7f84e6",
   "metadata": {},
   "outputs": [],
   "source": []
  },
  {
   "cell_type": "code",
   "execution_count": null,
   "id": "5cb3acb9-1059-4200-a782-cc4b9478f211",
   "metadata": {},
   "outputs": [],
   "source": []
  },
  {
   "cell_type": "code",
   "execution_count": null,
   "id": "47078001-20ed-448a-9cce-f52939820bc6",
   "metadata": {},
   "outputs": [],
   "source": []
  },
  {
   "cell_type": "code",
   "execution_count": null,
   "id": "a50a6d54-7a3a-40a4-b935-bc5061b1d945",
   "metadata": {},
   "outputs": [],
   "source": []
  },
  {
   "cell_type": "code",
   "execution_count": null,
   "id": "bc214f95-342e-4dff-b1a2-45206123c5f5",
   "metadata": {},
   "outputs": [],
   "source": []
  },
  {
   "cell_type": "code",
   "execution_count": null,
   "id": "ec26297a-857d-4c22-83c0-beb988e8d1d5",
   "metadata": {},
   "outputs": [],
   "source": []
  },
  {
   "cell_type": "code",
   "execution_count": null,
   "id": "9f601a7a-77d8-4d9f-9877-3761d5a416a3",
   "metadata": {},
   "outputs": [],
   "source": []
  },
  {
   "cell_type": "code",
   "execution_count": null,
   "id": "960bcc84-a781-409b-ac99-7eb1636f2dd0",
   "metadata": {},
   "outputs": [],
   "source": []
  },
  {
   "cell_type": "code",
   "execution_count": null,
   "id": "05003e88-06a4-42c3-ad8d-0b3938c04ae7",
   "metadata": {},
   "outputs": [],
   "source": []
  },
  {
   "cell_type": "code",
   "execution_count": null,
   "id": "f5c936e2-d548-4175-a313-752865e0eaee",
   "metadata": {},
   "outputs": [],
   "source": []
  },
  {
   "cell_type": "code",
   "execution_count": null,
   "id": "0848ca91-7b61-44ad-84c4-41bb44a48d88",
   "metadata": {},
   "outputs": [],
   "source": []
  },
  {
   "cell_type": "code",
   "execution_count": null,
   "id": "7374c042-62be-4d8a-9d80-23064207d4f9",
   "metadata": {},
   "outputs": [],
   "source": []
  },
  {
   "cell_type": "code",
   "execution_count": null,
   "id": "eecc0ff4-c45a-4fe2-80af-a203d2de485c",
   "metadata": {},
   "outputs": [],
   "source": []
  },
  {
   "cell_type": "code",
   "execution_count": null,
   "id": "c388621a-f06f-4d76-8234-8ed441bc3807",
   "metadata": {},
   "outputs": [],
   "source": []
  },
  {
   "cell_type": "code",
   "execution_count": null,
   "id": "e96296e8-f7e4-4f72-aa0d-e035e066e7e5",
   "metadata": {},
   "outputs": [],
   "source": []
  },
  {
   "cell_type": "code",
   "execution_count": null,
   "id": "730d632b-3c5c-479a-bae9-e14031c2c310",
   "metadata": {},
   "outputs": [],
   "source": []
  },
  {
   "cell_type": "code",
   "execution_count": null,
   "id": "c7894752-3a8d-4913-9a18-9704049f9ba3",
   "metadata": {},
   "outputs": [],
   "source": []
  },
  {
   "cell_type": "code",
   "execution_count": null,
   "id": "c0a211b7-c9aa-4dad-b512-14439f71b54d",
   "metadata": {},
   "outputs": [],
   "source": []
  },
  {
   "cell_type": "code",
   "execution_count": null,
   "id": "385594c6-615f-442c-b676-9b278140a058",
   "metadata": {},
   "outputs": [],
   "source": []
  },
  {
   "cell_type": "code",
   "execution_count": null,
   "id": "ec3c7c08-9bb2-41c2-919a-f77ce2b3f1e5",
   "metadata": {},
   "outputs": [],
   "source": []
  },
  {
   "cell_type": "code",
   "execution_count": null,
   "id": "8b895377-8715-4774-8c09-360118764c3a",
   "metadata": {},
   "outputs": [],
   "source": []
  },
  {
   "cell_type": "code",
   "execution_count": null,
   "id": "e1a6e017-cd0e-4291-9620-03a5fee6f9c2",
   "metadata": {},
   "outputs": [],
   "source": []
  },
  {
   "cell_type": "code",
   "execution_count": null,
   "id": "d781ac44-d590-4af7-a8dd-30cbf7a271d4",
   "metadata": {},
   "outputs": [],
   "source": []
  },
  {
   "cell_type": "code",
   "execution_count": null,
   "id": "6cc5eb82-40d5-43d3-b285-25c89db7d186",
   "metadata": {},
   "outputs": [],
   "source": []
  },
  {
   "cell_type": "code",
   "execution_count": null,
   "id": "fa7d70a6-b358-4fab-81e3-5751f6ee5295",
   "metadata": {},
   "outputs": [],
   "source": []
  },
  {
   "cell_type": "code",
   "execution_count": null,
   "id": "f433649d-a5c7-4fb9-abd9-8e53e85f8979",
   "metadata": {},
   "outputs": [],
   "source": []
  },
  {
   "cell_type": "code",
   "execution_count": null,
   "id": "78e2a804-bd3c-483d-bb23-5568c887f783",
   "metadata": {},
   "outputs": [],
   "source": []
  },
  {
   "cell_type": "code",
   "execution_count": null,
   "id": "69ba1d5f-3c5a-4ee1-a9e4-ca41ddc791ec",
   "metadata": {},
   "outputs": [],
   "source": []
  },
  {
   "cell_type": "code",
   "execution_count": null,
   "id": "fcabbbe6-37c6-4ed2-879f-8a1127ffbb1b",
   "metadata": {},
   "outputs": [],
   "source": []
  },
  {
   "cell_type": "code",
   "execution_count": null,
   "id": "97edb16e-b3f0-4c6f-9a5b-fcafbbaa4fa4",
   "metadata": {},
   "outputs": [],
   "source": []
  },
  {
   "cell_type": "code",
   "execution_count": null,
   "id": "b7a7bf22-582e-4ef0-8e71-a73cfe30af01",
   "metadata": {},
   "outputs": [],
   "source": []
  },
  {
   "cell_type": "code",
   "execution_count": null,
   "id": "47238584-d2a8-43f2-81e8-fb5b847a69b7",
   "metadata": {},
   "outputs": [],
   "source": []
  },
  {
   "cell_type": "code",
   "execution_count": null,
   "id": "19fa5977-9f3d-465b-b4ae-50ccc411467e",
   "metadata": {},
   "outputs": [],
   "source": []
  },
  {
   "cell_type": "code",
   "execution_count": null,
   "id": "d497ae2c-5397-445f-a479-9dd24fe3316c",
   "metadata": {},
   "outputs": [],
   "source": []
  },
  {
   "cell_type": "code",
   "execution_count": null,
   "id": "304bbe30-a25e-44df-aacb-1edc054f0b76",
   "metadata": {},
   "outputs": [],
   "source": []
  },
  {
   "cell_type": "code",
   "execution_count": null,
   "id": "7ada8786-168b-44e6-94a6-7e0518c886ed",
   "metadata": {},
   "outputs": [],
   "source": []
  },
  {
   "cell_type": "code",
   "execution_count": null,
   "id": "02de81fd-ed8c-4356-9586-5cd332a6f92d",
   "metadata": {},
   "outputs": [],
   "source": []
  },
  {
   "cell_type": "code",
   "execution_count": null,
   "id": "49a86d98-f6c1-4767-a3de-bbb6e305944b",
   "metadata": {},
   "outputs": [],
   "source": []
  },
  {
   "cell_type": "code",
   "execution_count": null,
   "id": "445fcccd-6e34-4019-a338-63ad05ef7d78",
   "metadata": {},
   "outputs": [],
   "source": []
  },
  {
   "cell_type": "code",
   "execution_count": null,
   "id": "4405de1c-ce7b-46ea-9a1e-79781b82bc70",
   "metadata": {},
   "outputs": [],
   "source": []
  },
  {
   "cell_type": "code",
   "execution_count": null,
   "id": "bad36851-4c3a-4923-90fe-e17f93a7d573",
   "metadata": {},
   "outputs": [],
   "source": []
  },
  {
   "cell_type": "code",
   "execution_count": null,
   "id": "250859e3-863f-4c8b-9364-294903330b2e",
   "metadata": {},
   "outputs": [],
   "source": []
  },
  {
   "cell_type": "code",
   "execution_count": null,
   "id": "cec1a1d5-b8c7-4937-98e0-64bdeb6d7b90",
   "metadata": {},
   "outputs": [],
   "source": []
  },
  {
   "cell_type": "code",
   "execution_count": null,
   "id": "64d83d82-c5ec-4636-a518-6b46b018045b",
   "metadata": {},
   "outputs": [],
   "source": []
  },
  {
   "cell_type": "code",
   "execution_count": null,
   "id": "7da22bc2-b6cb-4765-a5dd-354bd345b7be",
   "metadata": {},
   "outputs": [],
   "source": []
  },
  {
   "cell_type": "code",
   "execution_count": null,
   "id": "b55682e0-1202-4963-a9b2-793fd987363b",
   "metadata": {},
   "outputs": [],
   "source": []
  },
  {
   "cell_type": "code",
   "execution_count": null,
   "id": "3eff6156-5d0a-4d7c-96a6-589d75ef8fdc",
   "metadata": {},
   "outputs": [],
   "source": []
  }
 ],
 "metadata": {
  "kernelspec": {
   "display_name": "Python 3 (ipykernel)",
   "language": "python",
   "name": "python3"
  },
  "language_info": {
   "codemirror_mode": {
    "name": "ipython",
    "version": 3
   },
   "file_extension": ".py",
   "mimetype": "text/x-python",
   "name": "python",
   "nbconvert_exporter": "python",
   "pygments_lexer": "ipython3",
   "version": "3.9.7"
  }
 },
 "nbformat": 4,
 "nbformat_minor": 5
}
